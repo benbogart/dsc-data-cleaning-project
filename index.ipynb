{
 "cells": [
  {
   "cell_type": "markdown",
   "metadata": {},
   "source": [
    "# Project - Data Cleaning\n",
    "\n",
    "## Introduction\n",
    "In this lab, we'll make use of everything we've learned about pandas, data cleaning, and exploratory data analysis. In order to complete this lab, you'll have to import, clean, combine, reshape, and visualize data to answer questions provided, as well as your own questions!\n",
    "\n",
    "## Objectives\n",
    "You will be able to:\n",
    "- Use different types of joins to merge DataFrames \n",
    "- Identify missing values in a dataframe using built-in methods \n",
    "- Evaluate and execute the best strategy for dealing with missing, duplicate, and erroneous values for a given dataset \n",
    "- Inspect data for duplicates or extraneous values and remove them \n",
    "\n",
    "\n",
    "## The dataset\n",
    "In this lab, we'll work with the comprehensive [Super Heroes Dataset](https://www.kaggle.com/claudiodavi/superhero-set/data), which can be found on Kaggle!\n",
    "\n",
    "\n",
    "## Getting Started\n",
    "\n",
    "In the cell below:\n",
    "\n",
    "* Import and alias pandas as `pd`\n",
    "* Import and alias numpy as `np`\n",
    "* Import and alias seaborn as `sns`\n",
    "* Import and alias matplotlib.pyplot as `plt`\n",
    "* Set matplotlib visualizations to display inline in the notebook"
   ]
  },
  {
   "cell_type": "code",
   "execution_count": 1,
   "metadata": {},
   "outputs": [],
   "source": [
    "import pandas as pd\n",
    "import numpy as np\n",
    "import seaborn as sns\n",
    "import matplotlib.pyplot as plt\n",
    "%matplotlib inline\n",
    "\n"
   ]
  },
  {
   "cell_type": "markdown",
   "metadata": {},
   "source": [
    "For this lab, our dataset is split among two different sources -- `'heroes_information.csv'` and `'super_hero_powers.csv'`.\n",
    "\n",
    "Use pandas to read in each file and store them in DataFrames in the appropriate variables below. Then, display the `.head()` of each to ensure that everything loaded correctly.  "
   ]
  },
  {
   "cell_type": "code",
   "execution_count": 2,
   "metadata": {},
   "outputs": [
    {
     "data": {
      "text/html": [
       "<div>\n",
       "<style scoped>\n",
       "    .dataframe tbody tr th:only-of-type {\n",
       "        vertical-align: middle;\n",
       "    }\n",
       "\n",
       "    .dataframe tbody tr th {\n",
       "        vertical-align: top;\n",
       "    }\n",
       "\n",
       "    .dataframe thead th {\n",
       "        text-align: right;\n",
       "    }\n",
       "</style>\n",
       "<table border=\"1\" class=\"dataframe\">\n",
       "  <thead>\n",
       "    <tr style=\"text-align: right;\">\n",
       "      <th></th>\n",
       "      <th>Unnamed: 0</th>\n",
       "      <th>name</th>\n",
       "      <th>Gender</th>\n",
       "      <th>Eye color</th>\n",
       "      <th>Race</th>\n",
       "      <th>Hair color</th>\n",
       "      <th>Height</th>\n",
       "      <th>Publisher</th>\n",
       "      <th>Skin color</th>\n",
       "      <th>Alignment</th>\n",
       "      <th>Weight</th>\n",
       "    </tr>\n",
       "  </thead>\n",
       "  <tbody>\n",
       "    <tr>\n",
       "      <th>0</th>\n",
       "      <td>0</td>\n",
       "      <td>A-Bomb</td>\n",
       "      <td>Male</td>\n",
       "      <td>yellow</td>\n",
       "      <td>Human</td>\n",
       "      <td>No Hair</td>\n",
       "      <td>203.0</td>\n",
       "      <td>Marvel Comics</td>\n",
       "      <td>-</td>\n",
       "      <td>good</td>\n",
       "      <td>441.0</td>\n",
       "    </tr>\n",
       "    <tr>\n",
       "      <th>1</th>\n",
       "      <td>1</td>\n",
       "      <td>Abe Sapien</td>\n",
       "      <td>Male</td>\n",
       "      <td>blue</td>\n",
       "      <td>Icthyo Sapien</td>\n",
       "      <td>No Hair</td>\n",
       "      <td>191.0</td>\n",
       "      <td>Dark Horse Comics</td>\n",
       "      <td>blue</td>\n",
       "      <td>good</td>\n",
       "      <td>65.0</td>\n",
       "    </tr>\n",
       "    <tr>\n",
       "      <th>2</th>\n",
       "      <td>2</td>\n",
       "      <td>Abin Sur</td>\n",
       "      <td>Male</td>\n",
       "      <td>blue</td>\n",
       "      <td>Ungaran</td>\n",
       "      <td>No Hair</td>\n",
       "      <td>185.0</td>\n",
       "      <td>DC Comics</td>\n",
       "      <td>red</td>\n",
       "      <td>good</td>\n",
       "      <td>90.0</td>\n",
       "    </tr>\n",
       "    <tr>\n",
       "      <th>3</th>\n",
       "      <td>3</td>\n",
       "      <td>Abomination</td>\n",
       "      <td>Male</td>\n",
       "      <td>green</td>\n",
       "      <td>Human / Radiation</td>\n",
       "      <td>No Hair</td>\n",
       "      <td>203.0</td>\n",
       "      <td>Marvel Comics</td>\n",
       "      <td>-</td>\n",
       "      <td>bad</td>\n",
       "      <td>441.0</td>\n",
       "    </tr>\n",
       "    <tr>\n",
       "      <th>4</th>\n",
       "      <td>4</td>\n",
       "      <td>Abraxas</td>\n",
       "      <td>Male</td>\n",
       "      <td>blue</td>\n",
       "      <td>Cosmic Entity</td>\n",
       "      <td>Black</td>\n",
       "      <td>-99.0</td>\n",
       "      <td>Marvel Comics</td>\n",
       "      <td>-</td>\n",
       "      <td>bad</td>\n",
       "      <td>-99.0</td>\n",
       "    </tr>\n",
       "  </tbody>\n",
       "</table>\n",
       "</div>"
      ],
      "text/plain": [
       "   Unnamed: 0         name Gender Eye color               Race Hair color  \\\n",
       "0           0       A-Bomb   Male    yellow              Human    No Hair   \n",
       "1           1   Abe Sapien   Male      blue      Icthyo Sapien    No Hair   \n",
       "2           2     Abin Sur   Male      blue            Ungaran    No Hair   \n",
       "3           3  Abomination   Male     green  Human / Radiation    No Hair   \n",
       "4           4      Abraxas   Male      blue      Cosmic Entity      Black   \n",
       "\n",
       "   Height          Publisher Skin color Alignment  Weight  \n",
       "0   203.0      Marvel Comics          -      good   441.0  \n",
       "1   191.0  Dark Horse Comics       blue      good    65.0  \n",
       "2   185.0          DC Comics        red      good    90.0  \n",
       "3   203.0      Marvel Comics          -       bad   441.0  \n",
       "4   -99.0      Marvel Comics          -       bad   -99.0  "
      ]
     },
     "execution_count": 2,
     "metadata": {},
     "output_type": "execute_result"
    }
   ],
   "source": [
    "heroes_df = pd.read_csv('heroes_information.csv')\n",
    "heroes_df.head()"
   ]
  },
  {
   "cell_type": "code",
   "execution_count": 3,
   "metadata": {},
   "outputs": [
    {
     "data": {
      "text/html": [
       "<div>\n",
       "<style scoped>\n",
       "    .dataframe tbody tr th:only-of-type {\n",
       "        vertical-align: middle;\n",
       "    }\n",
       "\n",
       "    .dataframe tbody tr th {\n",
       "        vertical-align: top;\n",
       "    }\n",
       "\n",
       "    .dataframe thead th {\n",
       "        text-align: right;\n",
       "    }\n",
       "</style>\n",
       "<table border=\"1\" class=\"dataframe\">\n",
       "  <thead>\n",
       "    <tr style=\"text-align: right;\">\n",
       "      <th></th>\n",
       "      <th>hero_names</th>\n",
       "      <th>Agility</th>\n",
       "      <th>Accelerated Healing</th>\n",
       "      <th>Lantern Power Ring</th>\n",
       "      <th>Dimensional Awareness</th>\n",
       "      <th>Cold Resistance</th>\n",
       "      <th>Durability</th>\n",
       "      <th>Stealth</th>\n",
       "      <th>Energy Absorption</th>\n",
       "      <th>Flight</th>\n",
       "      <th>...</th>\n",
       "      <th>Web Creation</th>\n",
       "      <th>Reality Warping</th>\n",
       "      <th>Odin Force</th>\n",
       "      <th>Symbiote Costume</th>\n",
       "      <th>Speed Force</th>\n",
       "      <th>Phoenix Force</th>\n",
       "      <th>Molecular Dissipation</th>\n",
       "      <th>Vision - Cryo</th>\n",
       "      <th>Omnipresent</th>\n",
       "      <th>Omniscient</th>\n",
       "    </tr>\n",
       "  </thead>\n",
       "  <tbody>\n",
       "    <tr>\n",
       "      <th>0</th>\n",
       "      <td>3-D Man</td>\n",
       "      <td>True</td>\n",
       "      <td>False</td>\n",
       "      <td>False</td>\n",
       "      <td>False</td>\n",
       "      <td>False</td>\n",
       "      <td>False</td>\n",
       "      <td>False</td>\n",
       "      <td>False</td>\n",
       "      <td>False</td>\n",
       "      <td>...</td>\n",
       "      <td>False</td>\n",
       "      <td>False</td>\n",
       "      <td>False</td>\n",
       "      <td>False</td>\n",
       "      <td>False</td>\n",
       "      <td>False</td>\n",
       "      <td>False</td>\n",
       "      <td>False</td>\n",
       "      <td>False</td>\n",
       "      <td>False</td>\n",
       "    </tr>\n",
       "    <tr>\n",
       "      <th>1</th>\n",
       "      <td>A-Bomb</td>\n",
       "      <td>False</td>\n",
       "      <td>True</td>\n",
       "      <td>False</td>\n",
       "      <td>False</td>\n",
       "      <td>False</td>\n",
       "      <td>True</td>\n",
       "      <td>False</td>\n",
       "      <td>False</td>\n",
       "      <td>False</td>\n",
       "      <td>...</td>\n",
       "      <td>False</td>\n",
       "      <td>False</td>\n",
       "      <td>False</td>\n",
       "      <td>False</td>\n",
       "      <td>False</td>\n",
       "      <td>False</td>\n",
       "      <td>False</td>\n",
       "      <td>False</td>\n",
       "      <td>False</td>\n",
       "      <td>False</td>\n",
       "    </tr>\n",
       "    <tr>\n",
       "      <th>2</th>\n",
       "      <td>Abe Sapien</td>\n",
       "      <td>True</td>\n",
       "      <td>True</td>\n",
       "      <td>False</td>\n",
       "      <td>False</td>\n",
       "      <td>True</td>\n",
       "      <td>True</td>\n",
       "      <td>False</td>\n",
       "      <td>False</td>\n",
       "      <td>False</td>\n",
       "      <td>...</td>\n",
       "      <td>False</td>\n",
       "      <td>False</td>\n",
       "      <td>False</td>\n",
       "      <td>False</td>\n",
       "      <td>False</td>\n",
       "      <td>False</td>\n",
       "      <td>False</td>\n",
       "      <td>False</td>\n",
       "      <td>False</td>\n",
       "      <td>False</td>\n",
       "    </tr>\n",
       "    <tr>\n",
       "      <th>3</th>\n",
       "      <td>Abin Sur</td>\n",
       "      <td>False</td>\n",
       "      <td>False</td>\n",
       "      <td>True</td>\n",
       "      <td>False</td>\n",
       "      <td>False</td>\n",
       "      <td>False</td>\n",
       "      <td>False</td>\n",
       "      <td>False</td>\n",
       "      <td>False</td>\n",
       "      <td>...</td>\n",
       "      <td>False</td>\n",
       "      <td>False</td>\n",
       "      <td>False</td>\n",
       "      <td>False</td>\n",
       "      <td>False</td>\n",
       "      <td>False</td>\n",
       "      <td>False</td>\n",
       "      <td>False</td>\n",
       "      <td>False</td>\n",
       "      <td>False</td>\n",
       "    </tr>\n",
       "    <tr>\n",
       "      <th>4</th>\n",
       "      <td>Abomination</td>\n",
       "      <td>False</td>\n",
       "      <td>True</td>\n",
       "      <td>False</td>\n",
       "      <td>False</td>\n",
       "      <td>False</td>\n",
       "      <td>False</td>\n",
       "      <td>False</td>\n",
       "      <td>False</td>\n",
       "      <td>False</td>\n",
       "      <td>...</td>\n",
       "      <td>False</td>\n",
       "      <td>False</td>\n",
       "      <td>False</td>\n",
       "      <td>False</td>\n",
       "      <td>False</td>\n",
       "      <td>False</td>\n",
       "      <td>False</td>\n",
       "      <td>False</td>\n",
       "      <td>False</td>\n",
       "      <td>False</td>\n",
       "    </tr>\n",
       "  </tbody>\n",
       "</table>\n",
       "<p>5 rows × 168 columns</p>\n",
       "</div>"
      ],
      "text/plain": [
       "    hero_names  Agility  Accelerated Healing  Lantern Power Ring  \\\n",
       "0      3-D Man     True                False               False   \n",
       "1       A-Bomb    False                 True               False   \n",
       "2   Abe Sapien     True                 True               False   \n",
       "3     Abin Sur    False                False                True   \n",
       "4  Abomination    False                 True               False   \n",
       "\n",
       "   Dimensional Awareness  Cold Resistance  Durability  Stealth  \\\n",
       "0                  False            False       False    False   \n",
       "1                  False            False        True    False   \n",
       "2                  False             True        True    False   \n",
       "3                  False            False       False    False   \n",
       "4                  False            False       False    False   \n",
       "\n",
       "   Energy Absorption  Flight  ...  Web Creation  Reality Warping  Odin Force  \\\n",
       "0              False   False  ...         False            False       False   \n",
       "1              False   False  ...         False            False       False   \n",
       "2              False   False  ...         False            False       False   \n",
       "3              False   False  ...         False            False       False   \n",
       "4              False   False  ...         False            False       False   \n",
       "\n",
       "   Symbiote Costume  Speed Force  Phoenix Force  Molecular Dissipation  \\\n",
       "0             False        False          False                  False   \n",
       "1             False        False          False                  False   \n",
       "2             False        False          False                  False   \n",
       "3             False        False          False                  False   \n",
       "4             False        False          False                  False   \n",
       "\n",
       "   Vision - Cryo  Omnipresent  Omniscient  \n",
       "0          False        False       False  \n",
       "1          False        False       False  \n",
       "2          False        False       False  \n",
       "3          False        False       False  \n",
       "4          False        False       False  \n",
       "\n",
       "[5 rows x 168 columns]"
      ]
     },
     "execution_count": 3,
     "metadata": {},
     "output_type": "execute_result"
    }
   ],
   "source": [
    "powers_df = pd.read_csv('super_hero_powers.csv')\n",
    "powers_df.head()"
   ]
  },
  {
   "cell_type": "markdown",
   "metadata": {},
   "source": [
    "It looks as if the heroes information dataset contained an index column.  We did not specify that this dataset contained an index column, because we hadn't seen it yet. Pandas does not know how to tell apart an index column from any other data, so it stored it with the column name `Unnamed: 0`.  \n",
    "\n",
    "Our DataFrame provided row indices by default, so this column is not needed.  Drop it from the DataFrame in place in the cell below, and then display the head of `heroes_df` to ensure that it worked properly. "
   ]
  },
  {
   "cell_type": "code",
   "execution_count": 4,
   "metadata": {},
   "outputs": [],
   "source": [
    "heroes_df.drop('Unnamed: 0', axis = 1, inplace=True)"
   ]
  },
  {
   "cell_type": "markdown",
   "metadata": {},
   "source": [
    "## Familiarize yourself with the dataset\n",
    "\n",
    "The first step in our Exploratory Data Analysis will be to get familiar with the data.  This step includes:\n",
    "\n",
    "* Understanding the dimensionality of your dataset\n",
    "* Investigating what type of data it contains, and the data types used to store it\n",
    "* Discovering how missing values are encoded, and how many there are\n",
    "* Getting a feel for what information it does and doesn't contain\n",
    "\n",
    "In the cell below, get the descriptive statistics of each DataFrame.  "
   ]
  },
  {
   "cell_type": "code",
   "execution_count": 5,
   "metadata": {},
   "outputs": [
    {
     "name": "stdout",
     "output_type": "stream",
     "text": [
      "<class 'pandas.core.frame.DataFrame'>\n",
      "RangeIndex: 734 entries, 0 to 733\n",
      "Data columns (total 10 columns):\n",
      " #   Column      Non-Null Count  Dtype  \n",
      "---  ------      --------------  -----  \n",
      " 0   name        734 non-null    object \n",
      " 1   Gender      734 non-null    object \n",
      " 2   Eye color   734 non-null    object \n",
      " 3   Race        734 non-null    object \n",
      " 4   Hair color  734 non-null    object \n",
      " 5   Height      734 non-null    float64\n",
      " 6   Publisher   719 non-null    object \n",
      " 7   Skin color  734 non-null    object \n",
      " 8   Alignment   734 non-null    object \n",
      " 9   Weight      732 non-null    float64\n",
      "dtypes: float64(2), object(8)\n",
      "memory usage: 57.5+ KB\n"
     ]
    }
   ],
   "source": [
    "heroes_df.info()"
   ]
  },
  {
   "cell_type": "code",
   "execution_count": 6,
   "metadata": {},
   "outputs": [
    {
     "name": "stdout",
     "output_type": "stream",
     "text": [
      "name: ['A-Bomb' 'Abe Sapien' 'Abin Sur' 'Abomination' 'Abraxas' 'Absorbing Man'\n",
      " 'Adam Monroe' 'Adam Strange' 'Agent 13' 'Agent Bob' 'Agent Zero'\n",
      " 'Air-Walker' 'Ajax' 'Alan Scott' 'Alex Mercer' 'Alex Woolsly'\n",
      " 'Alfred Pennyworth' 'Alien' 'Allan Quatermain' 'Amazo' 'Ammo'\n",
      " 'Ando Masahashi' 'Angel' 'Angel Dust' 'Angel Salvadore' 'Angela'\n",
      " 'Animal Man' 'Annihilus' 'Ant-Man' 'Ant-Man II' 'Anti-Monitor'\n",
      " 'Anti-Spawn' 'Anti-Venom' 'Apocalypse' 'Aquababy' 'Aqualad' 'Aquaman'\n",
      " 'Arachne' 'Archangel' 'Arclight' 'Ardina' 'Ares' 'Ariel' 'Armor'\n",
      " 'Arsenal' 'Astro Boy' 'Atlas' 'Atom' 'Atom Girl' 'Atom II' 'Atom III'\n",
      " 'Atom IV' 'Aurora' 'Azazel' 'Azrael' 'Aztar' 'Bane' 'Banshee' 'Bantam'\n",
      " 'Batgirl' 'Batgirl III' 'Batgirl IV' 'Batgirl V' 'Batgirl VI' 'Batman'\n",
      " 'Batman II' 'Battlestar' 'Batwoman V' 'Beak' 'Beast' 'Beast Boy' 'Beetle'\n",
      " 'Ben 10' 'Beta Ray Bill' 'Beyonder' 'Big Barda' 'Big Daddy' 'Big Man'\n",
      " 'Bill Harken' 'Billy Kincaid' 'Binary' 'Bionic Woman' 'Bird-Brain'\n",
      " 'Bird-Man' 'Bird-Man II' 'Birdman' 'Bishop' 'Bizarro' 'Black Abbott'\n",
      " 'Black Adam' 'Black Bolt' 'Black Canary' 'Black Cat' 'Black Flash'\n",
      " 'Black Goliath' 'Black Knight III' 'Black Lightning' 'Black Mamba'\n",
      " 'Black Manta' 'Black Panther' 'Black Widow' 'Black Widow II' 'Blackout'\n",
      " 'Blackwing' 'Blackwulf' 'Blade' 'Blaquesmith' 'Bling!' 'Blink' 'Blizzard'\n",
      " 'Blizzard II' 'Blob' 'Bloodaxe' 'Bloodhawk' 'Bloodwraith' 'Blue Beetle'\n",
      " 'Blue Beetle II' 'Blue Beetle III' 'Boba Fett' 'Bolt' 'Bomb Queen'\n",
      " 'Boom-Boom' 'Boomer' 'Booster Gold' 'Box' 'Box III' 'Box IV' 'Brainiac'\n",
      " 'Brainiac 5' 'Brother Voodoo' 'Brundlefly' 'Buffy' 'Bullseye' 'Bumblebee'\n",
      " 'Bumbleboy' 'Bushido' 'Cable' 'Callisto' 'Cameron Hicks' 'Cannonball'\n",
      " 'Captain America' 'Captain Atom' 'Captain Britain' 'Captain Cold'\n",
      " 'Captain Epic' 'Captain Hindsight' 'Captain Mar-vell' 'Captain Marvel'\n",
      " 'Captain Marvel II' 'Captain Midnight' 'Captain Planet'\n",
      " 'Captain Universe' 'Carnage' 'Cat' 'Cat II' 'Catwoman' 'Cecilia Reyes'\n",
      " 'Century' 'Cerebra' 'Chamber' 'Chameleon' 'Changeling' 'Cheetah'\n",
      " 'Cheetah II' 'Cheetah III' 'Chromos' 'Chuck Norris' 'Citizen Steel'\n",
      " 'Claire Bennet' 'Clea' 'Cloak' 'Clock King' 'Cogliostro' 'Colin Wagner'\n",
      " 'Colossal Boy' 'Colossus' 'Copycat' 'Corsair' 'Cottonmouth'\n",
      " 'Crimson Crusader' 'Crimson Dynamo' 'Crystal' 'Curse' 'Cy-Gor' 'Cyborg'\n",
      " 'Cyborg Superman' 'Cyclops' 'Cypher' 'Dagger' 'Danny Cooper'\n",
      " 'Daphne Powell' 'Daredevil' 'Darkhawk' 'Darkman' 'Darkseid' 'Darkside'\n",
      " 'Darkstar' 'Darth Maul' 'Darth Vader' 'Dash' 'Data' 'Dazzler' 'Deadman'\n",
      " 'Deadpool' 'Deadshot' 'Deathlok' 'Deathstroke' 'Demogoblin' 'Destroyer'\n",
      " 'Diamondback' 'DL Hawkins' 'Doc Samson' 'Doctor Doom' 'Doctor Doom II'\n",
      " 'Doctor Fate' 'Doctor Octopus' 'Doctor Strange' 'Domino' 'Donatello'\n",
      " 'Donna Troy' 'Doomsday' 'Doppelganger' 'Dormammu' 'Dr Manhattan'\n",
      " 'Drax the Destroyer' 'Ego' 'Elastigirl' 'Electro' 'Elektra' 'Elle Bishop'\n",
      " 'Elongated Man' 'Emma Frost' 'Enchantress' 'Energy' 'ERG-1' 'Ethan Hunt'\n",
      " 'Etrigan' 'Evil Deadpool' 'Evilhawk' 'Exodus' 'Fabian Cortez' 'Falcon'\n",
      " 'Fallen One II' 'Faora' 'Feral' 'Fighting Spirit' 'Fin Fang Foom'\n",
      " 'Firebird' 'Firelord' 'Firestar' 'Firestorm' 'Fixer' 'Flash'\n",
      " 'Flash Gordon' 'Flash II' 'Flash III' 'Flash IV' 'Forge'\n",
      " 'Franklin Richards' 'Franklin Storm' 'Frenzy' 'Frigga' 'Galactus'\n",
      " 'Gambit' 'Gamora' 'Garbage Man' 'Gary Bell' 'General Zod' 'Genesis'\n",
      " 'Ghost Rider' 'Ghost Rider II' 'Giant-Man' 'Giant-Man II' 'Giganta'\n",
      " 'Gladiator' 'Goblin Queen' 'Godzilla' 'Gog' 'Goku' 'Goliath' 'Goliath IV'\n",
      " 'Gorilla Grodd' 'Granny Goodness' 'Gravity' 'Greedo' 'Green Arrow'\n",
      " 'Green Goblin' 'Green Goblin II' 'Green Goblin III' 'Green Goblin IV'\n",
      " 'Groot' 'Guardian' 'Guy Gardner' 'Hal Jordan' 'Han Solo' 'Hancock'\n",
      " 'Harley Quinn' 'Harry Potter' 'Havok' 'Hawk' 'Hawkeye' 'Hawkeye II'\n",
      " 'Hawkgirl' 'Hawkman' 'Hawkwoman' 'Hawkwoman II' 'Hawkwoman III'\n",
      " 'Heat Wave' 'Hela' 'Hellboy' 'Hellcat' 'Hellstorm' 'Hercules'\n",
      " 'Hiro Nakamura' 'Hit-Girl' 'Hobgoblin' 'Hollow' 'Hope Summers'\n",
      " 'Howard the Duck' 'Hulk' 'Human Torch' 'Huntress' 'Husk' 'Hybrid'\n",
      " 'Hydro-Man' 'Hyperion' 'Iceman' 'Impulse' 'Indiana Jones' 'Indigo' 'Ink'\n",
      " 'Invisible Woman' 'Iron Fist' 'Iron Man' 'Iron Monger' 'Isis'\n",
      " 'Jack Bauer' 'Jack of Hearts' 'Jack-Jack' 'James Bond' 'James T. Kirk'\n",
      " 'Jar Jar Binks' 'Jason Bourne' 'Jean Grey' 'Jean-Luc Picard'\n",
      " 'Jennifer Kale' 'Jesse Quick' 'Jessica Cruz' 'Jessica Jones'\n",
      " 'Jessica Sanders' 'Jigsaw' 'Jim Powell' 'JJ Powell' 'Johann Krauss'\n",
      " 'John Constantine' 'John Stewart' 'John Wraith' 'Joker' 'Jolt' 'Jubilee'\n",
      " 'Judge Dredd' 'Juggernaut' 'Junkpile' 'Justice' 'Jyn Erso' 'K-2SO' 'Kang'\n",
      " 'Karate Kid' 'Kathryn Janeway' 'Katniss Everdeen' 'Kevin 11' 'Kick-Ass'\n",
      " 'Kid Flash' 'Kid Flash II' 'Killer Croc' 'Killer Frost' 'Kilowog'\n",
      " 'King Kong' 'King Shark' 'Kingpin' 'Klaw' 'Kool-Aid Man' 'Kraven II'\n",
      " 'Kraven the Hunter' 'Krypto' 'Kyle Rayner' 'Kylo Ren' 'Lady Bullseye'\n",
      " 'Lady Deathstrike' 'Leader' 'Leech' 'Legion' 'Leonardo' 'Lex Luthor'\n",
      " 'Light Lass' 'Lightning Lad' 'Lightning Lord' 'Living Brain'\n",
      " 'Living Tribunal' 'Liz Sherman' 'Lizard' 'Lobo' 'Loki' 'Longshot'\n",
      " 'Luke Cage' 'Luke Campbell' 'Luke Skywalker' 'Luna' 'Lyja' 'Mach-IV'\n",
      " 'Machine Man' 'Magneto' 'Magog' 'Magus' 'Man of Miracles' 'Man-Bat'\n",
      " 'Man-Thing' 'Man-Wolf' 'Mandarin' 'Mantis' 'Martian Manhunter'\n",
      " 'Marvel Girl' 'Master Brood' 'Master Chief' 'Match' 'Matt Parkman'\n",
      " 'Maverick' 'Maxima' 'Maya Herrera' 'Medusa' 'Meltdown' 'Mephisto' 'Mera'\n",
      " 'Metallo' 'Metamorpho' 'Meteorite' 'Metron' 'Micah Sanders'\n",
      " 'Michelangelo' 'Micro Lad' 'Mimic' 'Minna Murray' 'Misfit' 'Miss Martian'\n",
      " 'Mister Fantastic' 'Mister Freeze' 'Mister Knife' 'Mister Mxyzptlk'\n",
      " 'Mister Sinister' 'Mister Zsasz' 'Mockingbird' 'MODOK' 'Mogo'\n",
      " 'Mohinder Suresh' 'Moloch' 'Molten Man' 'Monarch' 'Monica Dawson'\n",
      " 'Moon Knight' 'Moonstone' 'Morlun' 'Morph' 'Moses Magnum' 'Mr Immortal'\n",
      " 'Mr Incredible' 'Ms Marvel II' 'Multiple Man' 'Mysterio' 'Mystique'\n",
      " 'Namor' 'Namora' 'Namorita' 'Naruto Uzumaki' 'Nathan Petrelli' 'Nebula'\n",
      " 'Negasonic Teenage Warhead' 'Nick Fury' 'Nightcrawler' 'Nightwing'\n",
      " 'Niki Sanders' 'Nina Theroux' 'Nite Owl II' 'Northstar' 'Nova' 'Odin'\n",
      " 'Offspring' 'Omega Red' 'Omniscient' 'One Punch Man' 'One-Above-All'\n",
      " 'Onslaught' 'Oracle' 'Osiris' 'Overtkill' 'Ozymandias' 'Parademon'\n",
      " 'Paul Blart' 'Penance' 'Penance I' 'Penance II' 'Penguin'\n",
      " 'Peter Petrelli' 'Phantom' 'Phantom Girl' 'Phoenix' 'Plantman'\n",
      " 'Plastic Lad' 'Plastic Man' 'Plastique' 'Poison Ivy' 'Polaris'\n",
      " 'Power Girl' 'Power Man' 'Predator' 'Professor X' 'Professor Zoom'\n",
      " 'Proto-Goblin' 'Psylocke' 'Punisher' 'Purple Man' 'Pyro' 'Q' 'Quantum'\n",
      " 'Question' 'Quicksilver' 'Quill' \"Ra's Al Ghul\" 'Rachel Pirzad' 'Rambo'\n",
      " 'Raphael' 'Raven' 'Ray' 'Razor-Fist II' 'Red Arrow' 'Red Hood' 'Red Hulk'\n",
      " 'Red Mist' 'Red Robin' 'Red Skull' 'Red Tornado' 'Redeemer II'\n",
      " 'Redeemer III' 'Renata Soliz' 'Rey' 'Rhino' 'Rick Flag' 'Riddler'\n",
      " 'Rip Hunter' 'Ripcord' 'Robin' 'Robin II' 'Robin III' 'Robin V'\n",
      " 'Robin VI' 'Rocket Raccoon' 'Rogue' 'Ronin' 'Rorschach' 'Sabretooth'\n",
      " 'Sage' 'Sandman' 'Sasquatch' 'Sauron' 'Savage Dragon' 'Scarecrow'\n",
      " 'Scarlet Spider' 'Scarlet Spider II' 'Scarlet Witch' 'Scorpia' 'Scorpion'\n",
      " 'Sebastian Shaw' 'Sentry' 'Shadow King' 'Shadow Lass' 'Shadowcat'\n",
      " 'Shang-Chi' 'Shatterstar' 'She-Hulk' 'She-Thing' 'Shocker' 'Shriek'\n",
      " 'Shrinking Violet' 'Sif' 'Silk' 'Silk Spectre' 'Silk Spectre II'\n",
      " 'Silver Surfer' 'Silverclaw' 'Simon Baz' 'Sinestro' 'Siren' 'Siren II'\n",
      " 'Siryn' 'Skaar' 'Snake-Eyes' 'Snowbird' 'Sobek' 'Solomon Grundy'\n",
      " 'Songbird' 'Space Ghost' 'Spawn' 'Spectre' 'Speedball' 'Speedy'\n",
      " 'Spider-Carnage' 'Spider-Girl' 'Spider-Gwen' 'Spider-Man' 'Spider-Woman'\n",
      " 'Spider-Woman II' 'Spider-Woman III' 'Spider-Woman IV' 'Spock' 'Spyke'\n",
      " 'Stacy X' 'Star-Lord' 'Stardust' 'Starfire' 'Stargirl' 'Static' 'Steel'\n",
      " 'Stephanie Powell' 'Steppenwolf' 'Storm' 'Stormtrooper' 'Sunspot'\n",
      " 'Superboy' 'Superboy-Prime' 'Supergirl' 'Superman' 'Swamp Thing' 'Swarm'\n",
      " 'Sylar' 'Synch' 'T-1000' 'T-800' 'T-850' 'T-X' 'Taskmaster' 'Tempest'\n",
      " 'Thanos' 'The Cape' 'The Comedian' 'Thing' 'Thor' 'Thor Girl'\n",
      " 'Thunderbird' 'Thunderbird II' 'Thunderbird III' 'Thunderstrike'\n",
      " 'Thundra' 'Tiger Shark' 'Tigra' 'Tinkerer' 'Titan' 'Toad' 'Toxin'\n",
      " 'Tracy Strauss' 'Trickster' 'Trigon' 'Triplicate Girl' 'Triton'\n",
      " 'Two-Face' 'Ultragirl' 'Ultron' 'Utgard-Loki' 'Vagabond' 'Valerie Hart'\n",
      " 'Valkyrie' 'Vanisher' 'Vegeta' 'Venom' 'Venom II' 'Venom III' 'Venompool'\n",
      " 'Vertigo II' 'Vibe' 'Vindicator' 'Violator' 'Violet Parr' 'Vision'\n",
      " 'Vision II' 'Vixen' 'Vulcan' 'Vulture' 'Walrus' 'War Machine' 'Warbird'\n",
      " 'Warlock' 'Warp' 'Warpath' 'Wasp' 'Watcher' 'Weapon XI' 'White Canary'\n",
      " 'White Queen' 'Wildfire' 'Winter Soldier' 'Wiz Kid' 'Wolfsbane'\n",
      " 'Wolverine' 'Wonder Girl' 'Wonder Man' 'Wonder Woman' 'Wondra'\n",
      " 'Wyatt Wingfoot' 'X-23' 'X-Man' 'Yellow Claw' 'Yellowjacket'\n",
      " 'Yellowjacket II' 'Ymir' 'Yoda' 'Zatanna' 'Zoom']\n",
      "Gender: ['Male' 'Female' '-']\n",
      "Eye color: ['yellow' 'blue' 'green' 'brown' '-' 'red' 'violet' 'white' 'purple'\n",
      " 'black' 'grey' 'silver' 'yellow / red' 'yellow (without irises)' 'gold'\n",
      " 'blue / white' 'hazel' 'green / blue' 'white / red' 'indigo' 'amber'\n",
      " 'yellow / blue' 'bown']\n",
      "Race: ['Human' 'Icthyo Sapien' 'Ungaran' 'Human / Radiation' 'Cosmic Entity' '-'\n",
      " 'Cyborg' 'Xenomorph XX121' 'Android' 'Vampire' 'Mutant' 'God / Eternal'\n",
      " 'Symbiote' 'Atlantean' 'Alien' 'Neyaphem' 'New God' 'Alpha' 'Bizarro'\n",
      " 'Inhuman' 'Metahuman' 'Demon' 'Human / Clone' 'Human-Kree'\n",
      " 'Dathomirian Zabrak' 'Amazon' 'Human / Cosmic' 'Human / Altered'\n",
      " 'Kryptonian' 'Kakarantharaian' 'Zen-Whoberian' 'Strontian' 'Kaiju'\n",
      " 'Saiyan' 'Gorilla' 'Rodian' 'Flora Colossus' 'Human-Vuldarian'\n",
      " 'Asgardian' 'Demi-God' 'Eternal' 'Gungan' 'Bolovaxian' 'Animal'\n",
      " 'Czarnian' 'Martian' 'Spartoi' 'Planet' 'Luphomoid' 'Parademon' 'Yautja'\n",
      " 'Maiar' 'Clone' 'Talokite' 'Korugaran' 'Zombie' 'Human-Vulcan'\n",
      " 'Human-Spartoi' 'Tamaranean' 'Frost Giant' 'Mutant / Clone'\n",
      " \"Yoda's species\"]\n",
      "Hair color: ['No Hair' 'Black' 'Blond' 'Brown' '-' 'White' 'Purple' 'Orange' 'Pink'\n",
      " 'Red' 'Auburn' 'Strawberry Blond' 'black' 'Blue' 'Green' 'Magenta'\n",
      " 'Brown / Black' 'Brown / White' 'blond' 'Silver' 'Red / Grey' 'Grey'\n",
      " 'Orange / White' 'Yellow' 'Brownn' 'Gold' 'Red / Orange' 'Indigo'\n",
      " 'Red / White' 'Black / Blue']\n",
      "Height: [203.  191.  185.  -99.  193.  173.  178.  188.  180.  244.  257.  183.\n",
      " 165.  163.  211.   61.  229.  213.  175.  198.  168.  170.  201.  218.\n",
      "  30.5 196.  157.  226.  267.  122.  975.  142.  876.   62.5 108.  701.\n",
      " 259.   79.  155.   71.  287.  234.   64.  366.  206.  305.  297.  137.\n",
      " 279.   15.2 140.  160.  304.8  66. ]\n",
      "Publisher: ['Marvel Comics' 'Dark Horse Comics' 'DC Comics' 'NBC - Heroes'\n",
      " 'Wildstorm' 'Image Comics' nan 'Icon Comics' 'SyFy' 'Hanna-Barbera'\n",
      " 'George Lucas' 'Team Epic TV' 'South Park' 'HarperCollins' 'ABC Studios'\n",
      " 'Universal Studios' 'Star Trek' 'IDW Publishing' 'Shueisha'\n",
      " 'Sony Pictures' 'J. K. Rowling' 'Titan Books' 'Rebellion' 'Microsoft'\n",
      " 'J. R. R. Tolkien']\n",
      "Skin color: ['-' 'blue' 'red' 'black' 'grey' 'gold' 'green' 'white' 'pink' 'silver'\n",
      " 'red / black' 'yellow' 'purple' 'orange / white' 'gray' 'blue-white'\n",
      " 'orange']\n",
      "Alignment: ['good' 'bad' '-' 'neutral']\n",
      "Weight: [441.  65.  90. -99. 122.  88.  61.  81. 104. 108.  72. 169. 173. 101.\n",
      "  68.  57.  54.  83.  86. 358. 135. 106. 146.  63.  98. 270.  59.  50.\n",
      " 126.  67. 180.  77.  52.  95.  79. 133. 181. 216.  71. 124. 155. 113.\n",
      "  58.  92.  97.  56. 230. 495.  55. 110.  99. 158.  74. 116.  62. 170.\n",
      "  70.  78. 225. 817.  27.  91. 178. 383. 171. 187. 132.  89. 412. 306.\n",
      "  80. 203.  96.  18.  45. 167.  16. 630. 268.  nan 115.   4.  48. 119.\n",
      " 207. 191.   2.  14.  49. 855. 356. 324. 360. 288. 236.  36. 140. 128.\n",
      " 338. 248. 125.  85. 293.  69. 405. 117.  87. 234. 320.  38.  25. 900.\n",
      " 310. 149. 315. 153. 437. 131.  47. 176. 198. 443. 143.  76.  82. 105.\n",
      " 331. 214.  73. 334.  41. 162.  39. 473.  51.  17.]\n"
     ]
    }
   ],
   "source": [
    "for col in heroes_df.columns:\n",
    "    print(f'{col}:', heroes_df[col].unique())\n",
    "#NaN values seem to be denoted with '-'"
   ]
  },
  {
   "cell_type": "code",
   "execution_count": 7,
   "metadata": {},
   "outputs": [
    {
     "name": "stdout",
     "output_type": "stream",
     "text": [
      "name: Goliath         3\n",
      "Spider-Man      3\n",
      "Batgirl         2\n",
      "Vindicator      2\n",
      "Batman          2\n",
      "               ..\n",
      "Batgirl IV      1\n",
      "Batgirl III     1\n",
      "Taskmaster      1\n",
      "Supergirl       1\n",
      "Captain Cold    1\n",
      "Name: name, Length: 715, dtype: int64\n",
      "Gender: Male      505\n",
      "Female    200\n",
      "-          29\n",
      "Name: Gender, dtype: int64\n",
      "Eye color: blue                       225\n",
      "-                          172\n",
      "brown                      126\n",
      "green                       73\n",
      "red                         46\n",
      "black                       23\n",
      "yellow                      19\n",
      "white                       17\n",
      "hazel                        6\n",
      "grey                         6\n",
      "purple                       4\n",
      "gold                         3\n",
      "violet                       2\n",
      "yellow (without irises)      2\n",
      "amber                        2\n",
      "white / red                  1\n",
      "indigo                       1\n",
      "yellow / red                 1\n",
      "silver                       1\n",
      "green / blue                 1\n",
      "bown                         1\n",
      "blue / white                 1\n",
      "yellow / blue                1\n",
      "Name: Eye color, dtype: int64\n",
      "Race: -                    304\n",
      "Human                208\n",
      "Mutant                63\n",
      "God / Eternal         14\n",
      "Human / Radiation     11\n",
      "                    ... \n",
      "Icthyo Sapien          1\n",
      "Yoda's species         1\n",
      "Bizarro                1\n",
      "Zombie                 1\n",
      "Martian                1\n",
      "Name: Race, Length: 62, dtype: int64\n",
      "Hair color: -                   172\n",
      "Black               158\n",
      "Blond                99\n",
      "Brown                86\n",
      "No Hair              75\n",
      "Red                  51\n",
      "White                23\n",
      "Auburn               13\n",
      "Green                 8\n",
      "Strawberry Blond      7\n",
      "Grey                  5\n",
      "Purple                5\n",
      "Brown / White         4\n",
      "Silver                4\n",
      "black                 3\n",
      "Blue                  3\n",
      "blond                 3\n",
      "Orange                2\n",
      "Yellow                2\n",
      "Red / White           1\n",
      "Black / Blue          1\n",
      "Brown / Black         1\n",
      "Gold                  1\n",
      "Brownn                1\n",
      "Orange / White        1\n",
      "Red / Grey            1\n",
      "Red / Orange          1\n",
      "Indigo                1\n",
      "Pink                  1\n",
      "Magenta               1\n",
      "Name: Hair color, dtype: int64\n",
      "Height: -99.0     217\n",
      " 183.0     59\n",
      " 188.0     51\n",
      " 178.0     39\n",
      " 180.0     38\n",
      " 185.0     35\n",
      " 175.0     34\n",
      " 168.0     29\n",
      " 170.0     26\n",
      " 165.0     26\n",
      " 191.0     21\n",
      " 193.0     21\n",
      " 198.0     18\n",
      " 173.0     17\n",
      " 201.0     11\n",
      " 196.0     11\n",
      " 163.0      8\n",
      " 213.0      7\n",
      " 203.0      5\n",
      " 211.0      5\n",
      " 157.0      5\n",
      " 244.0      4\n",
      " 229.0      3\n",
      " 155.0      3\n",
      " 218.0      3\n",
      " 226.0      3\n",
      " 122.0      2\n",
      " 206.0      2\n",
      " 279.0      2\n",
      " 366.0      2\n",
      " 137.0      2\n",
      " 30.5       2\n",
      " 305.0      2\n",
      " 61.0       1\n",
      " 975.0      1\n",
      " 142.0      1\n",
      " 287.0      1\n",
      " 267.0      1\n",
      " 304.8      1\n",
      " 701.0      1\n",
      " 876.0      1\n",
      " 259.0      1\n",
      " 15.2       1\n",
      " 297.0      1\n",
      " 257.0      1\n",
      " 62.5       1\n",
      " 66.0       1\n",
      " 160.0      1\n",
      " 140.0      1\n",
      " 234.0      1\n",
      " 71.0       1\n",
      " 79.0       1\n",
      " 108.0      1\n",
      " 64.0       1\n",
      "Name: Height, dtype: int64\n",
      "Publisher: Marvel Comics        388\n",
      "DC Comics            215\n",
      "NBC - Heroes          19\n",
      "Dark Horse Comics     18\n",
      "Image Comics          14\n",
      "George Lucas          14\n",
      "Star Trek              6\n",
      "HarperCollins          6\n",
      "Team Epic TV           5\n",
      "SyFy                   5\n",
      "Icon Comics            4\n",
      "IDW Publishing         4\n",
      "Shueisha               4\n",
      "ABC Studios            4\n",
      "Wildstorm              3\n",
      "Sony Pictures          2\n",
      "J. R. R. Tolkien       1\n",
      "Titan Books            1\n",
      "Hanna-Barbera          1\n",
      "South Park             1\n",
      "Universal Studios      1\n",
      "Microsoft              1\n",
      "J. K. Rowling          1\n",
      "Rebellion              1\n",
      "Name: Publisher, dtype: int64\n",
      "Skin color: -                 662\n",
      "green              21\n",
      "blue                9\n",
      "red                 9\n",
      "white               7\n",
      "grey                5\n",
      "silver              5\n",
      "gold                3\n",
      "purple              3\n",
      "pink                2\n",
      "yellow              2\n",
      "orange              1\n",
      "red / black         1\n",
      "black               1\n",
      "gray                1\n",
      "orange / white      1\n",
      "blue-white          1\n",
      "Name: Skin color, dtype: int64\n",
      "Alignment: good       496\n",
      "bad        207\n",
      "neutral     24\n",
      "-            7\n",
      "Name: Alignment, dtype: int64\n",
      "Weight: -99.0     237\n",
      " 79.0      23\n",
      " 54.0      23\n",
      " 81.0      22\n",
      " 90.0      19\n",
      "         ... \n",
      " 132.0      1\n",
      " 38.0       1\n",
      " 412.0      1\n",
      " 320.0      1\n",
      " 855.0      1\n",
      "Name: Weight, Length: 135, dtype: int64\n"
     ]
    }
   ],
   "source": [
    "for col in heroes_df.columns:\n",
    "    print(f'{col}:', heroes_df[col].value_counts())"
   ]
  },
  {
   "cell_type": "code",
   "execution_count": 8,
   "metadata": {},
   "outputs": [
    {
     "data": {
      "text/html": [
       "<div>\n",
       "<style scoped>\n",
       "    .dataframe tbody tr th:only-of-type {\n",
       "        vertical-align: middle;\n",
       "    }\n",
       "\n",
       "    .dataframe tbody tr th {\n",
       "        vertical-align: top;\n",
       "    }\n",
       "\n",
       "    .dataframe thead th {\n",
       "        text-align: right;\n",
       "    }\n",
       "</style>\n",
       "<table border=\"1\" class=\"dataframe\">\n",
       "  <thead>\n",
       "    <tr style=\"text-align: right;\">\n",
       "      <th></th>\n",
       "      <th>Height</th>\n",
       "      <th>Weight</th>\n",
       "    </tr>\n",
       "  </thead>\n",
       "  <tbody>\n",
       "    <tr>\n",
       "      <th>count</th>\n",
       "      <td>734.000000</td>\n",
       "      <td>732.000000</td>\n",
       "    </tr>\n",
       "    <tr>\n",
       "      <th>mean</th>\n",
       "      <td>102.254087</td>\n",
       "      <td>43.855191</td>\n",
       "    </tr>\n",
       "    <tr>\n",
       "      <th>std</th>\n",
       "      <td>139.624543</td>\n",
       "      <td>130.823733</td>\n",
       "    </tr>\n",
       "    <tr>\n",
       "      <th>min</th>\n",
       "      <td>-99.000000</td>\n",
       "      <td>-99.000000</td>\n",
       "    </tr>\n",
       "    <tr>\n",
       "      <th>25%</th>\n",
       "      <td>-99.000000</td>\n",
       "      <td>-99.000000</td>\n",
       "    </tr>\n",
       "    <tr>\n",
       "      <th>50%</th>\n",
       "      <td>175.000000</td>\n",
       "      <td>62.000000</td>\n",
       "    </tr>\n",
       "    <tr>\n",
       "      <th>75%</th>\n",
       "      <td>185.000000</td>\n",
       "      <td>90.000000</td>\n",
       "    </tr>\n",
       "    <tr>\n",
       "      <th>max</th>\n",
       "      <td>975.000000</td>\n",
       "      <td>900.000000</td>\n",
       "    </tr>\n",
       "  </tbody>\n",
       "</table>\n",
       "</div>"
      ],
      "text/plain": [
       "           Height      Weight\n",
       "count  734.000000  732.000000\n",
       "mean   102.254087   43.855191\n",
       "std    139.624543  130.823733\n",
       "min    -99.000000  -99.000000\n",
       "25%    -99.000000  -99.000000\n",
       "50%    175.000000   62.000000\n",
       "75%    185.000000   90.000000\n",
       "max    975.000000  900.000000"
      ]
     },
     "execution_count": 8,
     "metadata": {},
     "output_type": "execute_result"
    }
   ],
   "source": [
    "heroes_df.describe()\n",
    "#-99 looks like another NaN value"
   ]
  },
  {
   "cell_type": "markdown",
   "metadata": {},
   "source": [
    "## powers_df"
   ]
  },
  {
   "cell_type": "code",
   "execution_count": 9,
   "metadata": {},
   "outputs": [
    {
     "name": "stdout",
     "output_type": "stream",
     "text": [
      "<class 'pandas.core.frame.DataFrame'>\n",
      "RangeIndex: 667 entries, 0 to 666\n",
      "Columns: 168 entries, hero_names to Omniscient\n",
      "dtypes: bool(167), object(1)\n",
      "memory usage: 114.1+ KB\n"
     ]
    }
   ],
   "source": [
    "powers_df.info()"
   ]
  },
  {
   "cell_type": "code",
   "execution_count": 10,
   "metadata": {},
   "outputs": [
    {
     "data": {
      "text/plain": [
       "hero_names               object\n",
       "Agility                    bool\n",
       "Accelerated Healing        bool\n",
       "Lantern Power Ring         bool\n",
       "Dimensional Awareness      bool\n",
       "                          ...  \n",
       "Phoenix Force              bool\n",
       "Molecular Dissipation      bool\n",
       "Vision - Cryo              bool\n",
       "Omnipresent                bool\n",
       "Omniscient                 bool\n",
       "Length: 168, dtype: object"
      ]
     },
     "execution_count": 10,
     "metadata": {},
     "output_type": "execute_result"
    }
   ],
   "source": [
    "powers_df.dtypes"
   ]
  },
  {
   "cell_type": "code",
   "execution_count": 11,
   "metadata": {},
   "outputs": [
    {
     "data": {
      "text/plain": [
       "1"
      ]
     },
     "execution_count": 11,
     "metadata": {},
     "output_type": "execute_result"
    }
   ],
   "source": [
    "powers_df.hero_names.value_counts().max()"
   ]
  },
  {
   "cell_type": "code",
   "execution_count": null,
   "metadata": {},
   "outputs": [],
   "source": []
  },
  {
   "cell_type": "markdown",
   "metadata": {},
   "source": [
    "## Dealing with missing values\n",
    "\n",
    "Starting in the cell below, detect and deal with any missing values in either DataFrame. Then, explain your methodology for detecting and dealing with outliers in the markdown section below. Be sure to explain your strategy for dealing with missing values in numeric columns, as well as your strategy for dealing with missing values in non-numeric columns.  \n",
    "\n",
    "Note that if you need to add more cells to write code in, you can do this by:\n",
    "\n",
    "**1.** Highlighting a cell and then pressing `ESC` to enter command mode.  \n",
    "**2.** Press `A` to add a cell above the highlighted cell, or `B` to add a cell below the highlighted cell. \n",
    "\n",
    "Describe your strategy below this line:\n",
    "____________________________________________________________________________________________________________________________\n",
    "\n",
    "\n"
   ]
  },
  {
   "cell_type": "markdown",
   "metadata": {},
   "source": [
    "    First I will check for duplicates in both DataFrames"
   ]
  },
  {
   "cell_type": "code",
   "execution_count": 12,
   "metadata": {},
   "outputs": [
    {
     "data": {
      "text/html": [
       "<div>\n",
       "<style scoped>\n",
       "    .dataframe tbody tr th:only-of-type {\n",
       "        vertical-align: middle;\n",
       "    }\n",
       "\n",
       "    .dataframe tbody tr th {\n",
       "        vertical-align: top;\n",
       "    }\n",
       "\n",
       "    .dataframe thead th {\n",
       "        text-align: right;\n",
       "    }\n",
       "</style>\n",
       "<table border=\"1\" class=\"dataframe\">\n",
       "  <thead>\n",
       "    <tr style=\"text-align: right;\">\n",
       "      <th></th>\n",
       "      <th>name</th>\n",
       "      <th>Gender</th>\n",
       "      <th>Eye color</th>\n",
       "      <th>Race</th>\n",
       "      <th>Hair color</th>\n",
       "      <th>Height</th>\n",
       "      <th>Publisher</th>\n",
       "      <th>Skin color</th>\n",
       "      <th>Alignment</th>\n",
       "      <th>Weight</th>\n",
       "    </tr>\n",
       "  </thead>\n",
       "  <tbody>\n",
       "    <tr>\n",
       "      <th>291</th>\n",
       "      <td>Goliath</td>\n",
       "      <td>Male</td>\n",
       "      <td>-</td>\n",
       "      <td>Human</td>\n",
       "      <td>-</td>\n",
       "      <td>-99.0</td>\n",
       "      <td>Marvel Comics</td>\n",
       "      <td>-</td>\n",
       "      <td>good</td>\n",
       "      <td>-99.0</td>\n",
       "    </tr>\n",
       "  </tbody>\n",
       "</table>\n",
       "</div>"
      ],
      "text/plain": [
       "        name Gender Eye color   Race Hair color  Height      Publisher  \\\n",
       "291  Goliath   Male         -  Human          -   -99.0  Marvel Comics   \n",
       "\n",
       "    Skin color Alignment  Weight  \n",
       "291          -      good   -99.0  "
      ]
     },
     "execution_count": 12,
     "metadata": {},
     "output_type": "execute_result"
    }
   ],
   "source": [
    "heroes_df[heroes_df.duplicated()]\n"
   ]
  },
  {
   "cell_type": "markdown",
   "metadata": {},
   "source": [
    "    Looks like there is only one duplicate row.  We should drop it."
   ]
  },
  {
   "cell_type": "code",
   "execution_count": 13,
   "metadata": {},
   "outputs": [
    {
     "data": {
      "text/html": [
       "<div>\n",
       "<style scoped>\n",
       "    .dataframe tbody tr th:only-of-type {\n",
       "        vertical-align: middle;\n",
       "    }\n",
       "\n",
       "    .dataframe tbody tr th {\n",
       "        vertical-align: top;\n",
       "    }\n",
       "\n",
       "    .dataframe thead th {\n",
       "        text-align: right;\n",
       "    }\n",
       "</style>\n",
       "<table border=\"1\" class=\"dataframe\">\n",
       "  <thead>\n",
       "    <tr style=\"text-align: right;\">\n",
       "      <th></th>\n",
       "      <th>name</th>\n",
       "      <th>Gender</th>\n",
       "      <th>Eye color</th>\n",
       "      <th>Race</th>\n",
       "      <th>Hair color</th>\n",
       "      <th>Height</th>\n",
       "      <th>Publisher</th>\n",
       "      <th>Skin color</th>\n",
       "      <th>Alignment</th>\n",
       "      <th>Weight</th>\n",
       "    </tr>\n",
       "  </thead>\n",
       "  <tbody>\n",
       "  </tbody>\n",
       "</table>\n",
       "</div>"
      ],
      "text/plain": [
       "Empty DataFrame\n",
       "Columns: [name, Gender, Eye color, Race, Hair color, Height, Publisher, Skin color, Alignment, Weight]\n",
       "Index: []"
      ]
     },
     "execution_count": 13,
     "metadata": {},
     "output_type": "execute_result"
    }
   ],
   "source": [
    "heroes_df.drop_duplicates(inplace = True)\n",
    "heroes_df[heroes_df.duplicated()]\n"
   ]
  },
  {
   "cell_type": "code",
   "execution_count": 14,
   "metadata": {},
   "outputs": [
    {
     "data": {
      "text/html": [
       "<div>\n",
       "<style scoped>\n",
       "    .dataframe tbody tr th:only-of-type {\n",
       "        vertical-align: middle;\n",
       "    }\n",
       "\n",
       "    .dataframe tbody tr th {\n",
       "        vertical-align: top;\n",
       "    }\n",
       "\n",
       "    .dataframe thead th {\n",
       "        text-align: right;\n",
       "    }\n",
       "</style>\n",
       "<table border=\"1\" class=\"dataframe\">\n",
       "  <thead>\n",
       "    <tr style=\"text-align: right;\">\n",
       "      <th></th>\n",
       "      <th>hero_names</th>\n",
       "      <th>Agility</th>\n",
       "      <th>Accelerated Healing</th>\n",
       "      <th>Lantern Power Ring</th>\n",
       "      <th>Dimensional Awareness</th>\n",
       "      <th>Cold Resistance</th>\n",
       "      <th>Durability</th>\n",
       "      <th>Stealth</th>\n",
       "      <th>Energy Absorption</th>\n",
       "      <th>Flight</th>\n",
       "      <th>...</th>\n",
       "      <th>Web Creation</th>\n",
       "      <th>Reality Warping</th>\n",
       "      <th>Odin Force</th>\n",
       "      <th>Symbiote Costume</th>\n",
       "      <th>Speed Force</th>\n",
       "      <th>Phoenix Force</th>\n",
       "      <th>Molecular Dissipation</th>\n",
       "      <th>Vision - Cryo</th>\n",
       "      <th>Omnipresent</th>\n",
       "      <th>Omniscient</th>\n",
       "    </tr>\n",
       "  </thead>\n",
       "  <tbody>\n",
       "  </tbody>\n",
       "</table>\n",
       "<p>0 rows × 168 columns</p>\n",
       "</div>"
      ],
      "text/plain": [
       "Empty DataFrame\n",
       "Columns: [hero_names, Agility, Accelerated Healing, Lantern Power Ring, Dimensional Awareness, Cold Resistance, Durability, Stealth, Energy Absorption, Flight, Danger Sense, Underwater breathing, Marksmanship, Weapons Master, Power Augmentation, Animal Attributes, Longevity, Intelligence, Super Strength, Cryokinesis, Telepathy, Energy Armor, Energy Blasts, Duplication, Size Changing, Density Control, Stamina, Astral Travel, Audio Control, Dexterity, Omnitrix, Super Speed, Possession, Animal Oriented Powers, Weapon-based Powers, Electrokinesis, Darkforce Manipulation, Death Touch, Teleportation, Enhanced Senses, Telekinesis, Energy Beams, Magic, Hyperkinesis, Jump, Clairvoyance, Dimensional Travel, Power Sense, Shapeshifting, Peak Human Condition, Immortality, Camouflage, Element Control, Phasing, Astral Projection, Electrical Transport, Fire Control, Projection, Summoning, Enhanced Memory, Reflexes, Invulnerability, Energy Constructs, Force Fields, Self-Sustenance, Anti-Gravity, Empathy, Power Nullifier, Radiation Control, Psionic Powers, Elasticity, Substance Secretion, Elemental Transmogrification, Technopath/Cyberpath, Photographic Reflexes, Seismic Power, Animation, Precognition, Mind Control, Fire Resistance, Power Absorption, Enhanced Hearing, Nova Force, Insanity, Hypnokinesis, Animal Control, Natural Armor, Intangibility, Enhanced Sight, Molecular Manipulation, Heat Generation, Adaptation, Gliding, Power Suit, Mind Blast, Probability Manipulation, Gravity Control, Regeneration, Light Control, Echolocation, ...]\n",
       "Index: []\n",
       "\n",
       "[0 rows x 168 columns]"
      ]
     },
     "execution_count": 14,
     "metadata": {},
     "output_type": "execute_result"
    }
   ],
   "source": [
    "powers_df[powers_df.duplicated()]\n"
   ]
  },
  {
   "cell_type": "code",
   "execution_count": 15,
   "metadata": {},
   "outputs": [
    {
     "data": {
      "text/plain": [
       "Series([], Name: hero_names, dtype: object)"
      ]
     },
     "execution_count": 15,
     "metadata": {},
     "output_type": "execute_result"
    }
   ],
   "source": [
    "powers_df['hero_names'][powers_df['hero_names'].duplicated()]"
   ]
  },
  {
   "cell_type": "markdown",
   "metadata": {},
   "source": [
    "    Great no duplicates in the powers_df"
   ]
  },
  {
   "cell_type": "markdown",
   "metadata": {},
   "source": [
    "    The above data exploration revieled that '-' is used in place of NaN throughout the dataframe for missing categorical data.  First I will replace those values with np.NaN to make further decisions easier."
   ]
  },
  {
   "cell_type": "code",
   "execution_count": 16,
   "metadata": {},
   "outputs": [],
   "source": [
    "heroes_df.replace('-', np.nan, inplace=True)"
   ]
  },
  {
   "cell_type": "markdown",
   "metadata": {},
   "source": [
    "    I also descovered that -99 is used as a placeholder value for numerical columns.  We know this because -99 is not a valid height or weight."
   ]
  },
  {
   "cell_type": "code",
   "execution_count": 17,
   "metadata": {},
   "outputs": [],
   "source": [
    "heroes_df.replace(-99, np.nan, inplace=True)"
   ]
  },
  {
   "cell_type": "code",
   "execution_count": 18,
   "metadata": {},
   "outputs": [
    {
     "data": {
      "text/html": [
       "<div>\n",
       "<style scoped>\n",
       "    .dataframe tbody tr th:only-of-type {\n",
       "        vertical-align: middle;\n",
       "    }\n",
       "\n",
       "    .dataframe tbody tr th {\n",
       "        vertical-align: top;\n",
       "    }\n",
       "\n",
       "    .dataframe thead th {\n",
       "        text-align: right;\n",
       "    }\n",
       "</style>\n",
       "<table border=\"1\" class=\"dataframe\">\n",
       "  <thead>\n",
       "    <tr style=\"text-align: right;\">\n",
       "      <th></th>\n",
       "      <th>Height</th>\n",
       "      <th>Weight</th>\n",
       "    </tr>\n",
       "  </thead>\n",
       "  <tbody>\n",
       "    <tr>\n",
       "      <th>count</th>\n",
       "      <td>517.000000</td>\n",
       "      <td>495.000000</td>\n",
       "    </tr>\n",
       "    <tr>\n",
       "      <th>mean</th>\n",
       "      <td>186.726306</td>\n",
       "      <td>112.252525</td>\n",
       "    </tr>\n",
       "    <tr>\n",
       "      <th>std</th>\n",
       "      <td>59.251895</td>\n",
       "      <td>104.151142</td>\n",
       "    </tr>\n",
       "    <tr>\n",
       "      <th>min</th>\n",
       "      <td>15.200000</td>\n",
       "      <td>2.000000</td>\n",
       "    </tr>\n",
       "    <tr>\n",
       "      <th>25%</th>\n",
       "      <td>173.000000</td>\n",
       "      <td>61.000000</td>\n",
       "    </tr>\n",
       "    <tr>\n",
       "      <th>50%</th>\n",
       "      <td>183.000000</td>\n",
       "      <td>81.000000</td>\n",
       "    </tr>\n",
       "    <tr>\n",
       "      <th>75%</th>\n",
       "      <td>191.000000</td>\n",
       "      <td>108.000000</td>\n",
       "    </tr>\n",
       "    <tr>\n",
       "      <th>max</th>\n",
       "      <td>975.000000</td>\n",
       "      <td>900.000000</td>\n",
       "    </tr>\n",
       "  </tbody>\n",
       "</table>\n",
       "</div>"
      ],
      "text/plain": [
       "           Height      Weight\n",
       "count  517.000000  495.000000\n",
       "mean   186.726306  112.252525\n",
       "std     59.251895  104.151142\n",
       "min     15.200000    2.000000\n",
       "25%    173.000000   61.000000\n",
       "50%    183.000000   81.000000\n",
       "75%    191.000000  108.000000\n",
       "max    975.000000  900.000000"
      ]
     },
     "execution_count": 18,
     "metadata": {},
     "output_type": "execute_result"
    }
   ],
   "source": [
    "heroes_df.describe()\n",
    "# Thats better"
   ]
  },
  {
   "cell_type": "markdown",
   "metadata": {},
   "source": [
    "    looking for anythign else I might have missed."
   ]
  },
  {
   "cell_type": "code",
   "execution_count": 19,
   "metadata": {},
   "outputs": [
    {
     "name": "stdout",
     "output_type": "stream",
     "text": [
      "Spider-Man      3\n",
      "Batgirl         2\n",
      "Vindicator      2\n",
      "Batman          2\n",
      "Atlas           2\n",
      "               ..\n",
      "Batgirl IV      1\n",
      "Batgirl III     1\n",
      "Taskmaster      1\n",
      "Supergirl       1\n",
      "Captain Cold    1\n",
      "Name: name, Length: 715, dtype: int64 \n",
      "\n",
      "\n",
      "Male      504\n",
      "Female    200\n",
      "Name: Gender, dtype: int64 \n",
      "\n",
      "\n",
      "blue                       225\n",
      "brown                      126\n",
      "green                       73\n",
      "red                         46\n",
      "black                       23\n",
      "yellow                      19\n",
      "white                       17\n",
      "hazel                        6\n",
      "grey                         6\n",
      "purple                       4\n",
      "gold                         3\n",
      "amber                        2\n",
      "yellow (without irises)      2\n",
      "violet                       2\n",
      "indigo                       1\n",
      "yellow / blue                1\n",
      "white / red                  1\n",
      "silver                       1\n",
      "green / blue                 1\n",
      "bown                         1\n",
      "blue / white                 1\n",
      "yellow / red                 1\n",
      "Name: Eye color, dtype: int64 \n",
      "\n",
      "\n",
      "Human                207\n",
      "Mutant                63\n",
      "God / Eternal         14\n",
      "Human / Radiation     11\n",
      "Cyborg                11\n",
      "                    ... \n",
      "Yoda's species         1\n",
      "Martian                1\n",
      "Bizarro                1\n",
      "Zombie                 1\n",
      "Icthyo Sapien          1\n",
      "Name: Race, Length: 61, dtype: int64 \n",
      "\n",
      "\n",
      "Black               158\n",
      "Blond                99\n",
      "Brown                86\n",
      "No Hair              75\n",
      "Red                  51\n",
      "White                23\n",
      "Auburn               13\n",
      "Green                 8\n",
      "Strawberry Blond      7\n",
      "Purple                5\n",
      "Grey                  5\n",
      "Silver                4\n",
      "Brown / White         4\n",
      "black                 3\n",
      "blond                 3\n",
      "Blue                  3\n",
      "Yellow                2\n",
      "Orange                2\n",
      "Magenta               1\n",
      "Pink                  1\n",
      "Indigo                1\n",
      "Red / Grey            1\n",
      "Red / Orange          1\n",
      "Black / Blue          1\n",
      "Brownn                1\n",
      "Gold                  1\n",
      "Brown / Black         1\n",
      "Red / White           1\n",
      "Orange / White        1\n",
      "Name: Hair color, dtype: int64 \n",
      "\n",
      "\n",
      "Marvel Comics        387\n",
      "DC Comics            215\n",
      "NBC - Heroes          19\n",
      "Dark Horse Comics     18\n",
      "Image Comics          14\n",
      "George Lucas          14\n",
      "Star Trek              6\n",
      "HarperCollins          6\n",
      "Team Epic TV           5\n",
      "SyFy                   5\n",
      "Icon Comics            4\n",
      "IDW Publishing         4\n",
      "Shueisha               4\n",
      "ABC Studios            4\n",
      "Wildstorm              3\n",
      "Sony Pictures          2\n",
      "J. R. R. Tolkien       1\n",
      "Titan Books            1\n",
      "Hanna-Barbera          1\n",
      "South Park             1\n",
      "Universal Studios      1\n",
      "Microsoft              1\n",
      "J. K. Rowling          1\n",
      "Rebellion              1\n",
      "Name: Publisher, dtype: int64 \n",
      "\n",
      "\n",
      "green             21\n",
      "red                9\n",
      "blue               9\n",
      "white              7\n",
      "silver             5\n",
      "grey               5\n",
      "purple             3\n",
      "gold               3\n",
      "pink               2\n",
      "yellow             2\n",
      "blue-white         1\n",
      "orange             1\n",
      "orange / white     1\n",
      "black              1\n",
      "red / black        1\n",
      "gray               1\n",
      "Name: Skin color, dtype: int64 \n",
      "\n",
      "\n",
      "good       495\n",
      "bad        207\n",
      "neutral     24\n",
      "Name: Alignment, dtype: int64 \n",
      "\n",
      "\n"
     ]
    }
   ],
   "source": [
    "for cols in heroes_df.columns:\n",
    "    if heroes_df[cols].dtype == 'object':\n",
    "        print(heroes_df[cols].value_counts(), '\\n\\n')"
   ]
  },
  {
   "cell_type": "markdown",
   "metadata": {},
   "source": [
    "    Why are there 3 Spider-Man's?"
   ]
  },
  {
   "cell_type": "code",
   "execution_count": 20,
   "metadata": {},
   "outputs": [
    {
     "data": {
      "text/html": [
       "<div>\n",
       "<style scoped>\n",
       "    .dataframe tbody tr th:only-of-type {\n",
       "        vertical-align: middle;\n",
       "    }\n",
       "\n",
       "    .dataframe tbody tr th {\n",
       "        vertical-align: top;\n",
       "    }\n",
       "\n",
       "    .dataframe thead th {\n",
       "        text-align: right;\n",
       "    }\n",
       "</style>\n",
       "<table border=\"1\" class=\"dataframe\">\n",
       "  <thead>\n",
       "    <tr style=\"text-align: right;\">\n",
       "      <th></th>\n",
       "      <th>name</th>\n",
       "      <th>Gender</th>\n",
       "      <th>Eye color</th>\n",
       "      <th>Race</th>\n",
       "      <th>Hair color</th>\n",
       "      <th>Height</th>\n",
       "      <th>Publisher</th>\n",
       "      <th>Skin color</th>\n",
       "      <th>Alignment</th>\n",
       "      <th>Weight</th>\n",
       "    </tr>\n",
       "  </thead>\n",
       "  <tbody>\n",
       "    <tr>\n",
       "      <th>622</th>\n",
       "      <td>Spider-Man</td>\n",
       "      <td>Male</td>\n",
       "      <td>hazel</td>\n",
       "      <td>Human</td>\n",
       "      <td>Brown</td>\n",
       "      <td>178.0</td>\n",
       "      <td>Marvel Comics</td>\n",
       "      <td>NaN</td>\n",
       "      <td>good</td>\n",
       "      <td>74.0</td>\n",
       "    </tr>\n",
       "    <tr>\n",
       "      <th>623</th>\n",
       "      <td>Spider-Man</td>\n",
       "      <td>NaN</td>\n",
       "      <td>red</td>\n",
       "      <td>Human</td>\n",
       "      <td>Brown</td>\n",
       "      <td>178.0</td>\n",
       "      <td>Marvel Comics</td>\n",
       "      <td>NaN</td>\n",
       "      <td>good</td>\n",
       "      <td>77.0</td>\n",
       "    </tr>\n",
       "    <tr>\n",
       "      <th>624</th>\n",
       "      <td>Spider-Man</td>\n",
       "      <td>Male</td>\n",
       "      <td>brown</td>\n",
       "      <td>Human</td>\n",
       "      <td>Black</td>\n",
       "      <td>157.0</td>\n",
       "      <td>Marvel Comics</td>\n",
       "      <td>NaN</td>\n",
       "      <td>good</td>\n",
       "      <td>56.0</td>\n",
       "    </tr>\n",
       "  </tbody>\n",
       "</table>\n",
       "</div>"
      ],
      "text/plain": [
       "           name Gender Eye color   Race Hair color  Height      Publisher  \\\n",
       "622  Spider-Man   Male     hazel  Human      Brown   178.0  Marvel Comics   \n",
       "623  Spider-Man    NaN       red  Human      Brown   178.0  Marvel Comics   \n",
       "624  Spider-Man   Male     brown  Human      Black   157.0  Marvel Comics   \n",
       "\n",
       "    Skin color Alignment  Weight  \n",
       "622        NaN      good    74.0  \n",
       "623        NaN      good    77.0  \n",
       "624        NaN      good    56.0  "
      ]
     },
     "execution_count": 20,
     "metadata": {},
     "output_type": "execute_result"
    }
   ],
   "source": [
    "heroes_df[heroes_df['name'] == 'Spider-Man']"
   ]
  },
  {
   "cell_type": "markdown",
   "metadata": {},
   "source": [
    "    Wow.  So they are not duplicates but we found that we could infer that the gender for 623 is Male. I think I will leave this for another day.  First, do I really *know* that thats not a woman Spider-Man?  Probably best to stick to the data here."
   ]
  },
  {
   "cell_type": "markdown",
   "metadata": {},
   "source": [
    "    Now I will decide what to do with the NaN values on a colum by column basis."
   ]
  },
  {
   "cell_type": "code",
   "execution_count": 21,
   "metadata": {},
   "outputs": [
    {
     "data": {
      "text/plain": [
       "name            0\n",
       "Gender         29\n",
       "Eye color     171\n",
       "Race          304\n",
       "Hair color    171\n",
       "Height        216\n",
       "Publisher      15\n",
       "Skin color    661\n",
       "Alignment       7\n",
       "Weight        238\n",
       "dtype: int64"
      ]
     },
     "execution_count": 21,
     "metadata": {},
     "output_type": "execute_result"
    }
   ],
   "source": [
    "heroes_df.isna().sum()\n",
    "# That is a lot of missing information"
   ]
  },
  {
   "cell_type": "code",
   "execution_count": 22,
   "metadata": {},
   "outputs": [
    {
     "data": {
      "text/plain": [
       "name          0.000000\n",
       "Alignment     0.000955\n",
       "Publisher     0.002046\n",
       "Gender        0.003956\n",
       "Eye color     0.023329\n",
       "Hair color    0.023329\n",
       "Height        0.029468\n",
       "Weight        0.032469\n",
       "Race          0.041473\n",
       "Skin color    0.090177\n",
       "dtype: float64"
      ]
     },
     "execution_count": 22,
     "metadata": {},
     "output_type": "execute_result"
    }
   ],
   "source": [
    "#Get percentage of data missing for each column\n",
    "(heroes_df.isna().sum() / heroes_df.size).sort_values()"
   ]
  },
  {
   "cell_type": "markdown",
   "metadata": {},
   "source": [
    "    First I think it makes sense to deal with the columns that have a large percentage of NaN values.  The columns with the largest number of NaN values are 'Skin Color' and 'Race'.  Interpolating these seems like it would product algorhthmic bias.  They should just be dropped."
   ]
  },
  {
   "cell_type": "code",
   "execution_count": 23,
   "metadata": {},
   "outputs": [],
   "source": [
    "heroes_df.drop(['Race', 'Skin color'], axis = 1, inplace = True)"
   ]
  },
  {
   "cell_type": "code",
   "execution_count": 24,
   "metadata": {},
   "outputs": [
    {
     "data": {
      "text/plain": [
       "name          0.000000\n",
       "Alignment     0.001194\n",
       "Publisher     0.002558\n",
       "Gender        0.004945\n",
       "Eye color     0.029161\n",
       "Hair color    0.029161\n",
       "Height        0.036835\n",
       "Weight        0.040587\n",
       "dtype: float64"
      ]
     },
     "execution_count": 24,
     "metadata": {},
     "output_type": "execute_result"
    }
   ],
   "source": [
    "#Get percentage of data missing for each column\n",
    "(heroes_df.isna().sum() / heroes_df.size).sort_values()"
   ]
  },
  {
   "cell_type": "markdown",
   "metadata": {},
   "source": [
    "    Lets see whether mean or median does a better job on for mantianing the distribution of Height and Weight."
   ]
  },
  {
   "cell_type": "code",
   "execution_count": 25,
   "metadata": {},
   "outputs": [
    {
     "data": {
      "text/plain": [
       "count    517.000000\n",
       "mean     186.726306\n",
       "std       59.251895\n",
       "min       15.200000\n",
       "25%      173.000000\n",
       "50%      183.000000\n",
       "75%      191.000000\n",
       "max      975.000000\n",
       "Name: Height, dtype: float64"
      ]
     },
     "execution_count": 25,
     "metadata": {},
     "output_type": "execute_result"
    }
   ],
   "source": [
    "heroes_df['Height'].describe()"
   ]
  },
  {
   "cell_type": "code",
   "execution_count": 26,
   "metadata": {},
   "outputs": [
    {
     "data": {
      "text/plain": [
       "count    733.000000\n",
       "mean     186.726306\n",
       "std       49.747533\n",
       "min       15.200000\n",
       "25%      178.000000\n",
       "50%      186.726306\n",
       "75%      186.726306\n",
       "max      975.000000\n",
       "Name: Height, dtype: float64"
      ]
     },
     "execution_count": 26,
     "metadata": {},
     "output_type": "execute_result"
    }
   ],
   "source": [
    "#filled with mean\n",
    "heroes_df['Height'].fillna(heroes_df['Height'].mean()).describe()"
   ]
  },
  {
   "cell_type": "code",
   "execution_count": 27,
   "metadata": {},
   "outputs": [
    {
     "data": {
      "text/plain": [
       "<AxesSubplot:ylabel='Frequency'>"
      ]
     },
     "execution_count": 27,
     "metadata": {},
     "output_type": "execute_result"
    },
    {
     "data": {
      "image/png": "[encoded data removed]",
      "text/plain": [
       "<Figure size 432x288 with 1 Axes>"
      ]
     },
     "metadata": {
      "needs_background": "light"
     },
     "output_type": "display_data"
    }
   ],
   "source": [
    "heroes_df['Height'].fillna(heroes_df['Height'].mean()).plot.hist(bins=100)"
   ]
  },
  {
   "cell_type": "markdown",
   "metadata": {},
   "source": [
    "    Wow, we have signifigant outliers.  Must check that to see if the results are valid.  What are the Height units anyway?  According to kaggle this is height in cm.  So the talles is 9.75m tall.  Well they are super heroes so lets see who that is."
   ]
  },
  {
   "cell_type": "code",
   "execution_count": 28,
   "metadata": {},
   "outputs": [
    {
     "data": {
      "text/html": [
       "<div>\n",
       "<style scoped>\n",
       "    .dataframe tbody tr th:only-of-type {\n",
       "        vertical-align: middle;\n",
       "    }\n",
       "\n",
       "    .dataframe tbody tr th {\n",
       "        vertical-align: top;\n",
       "    }\n",
       "\n",
       "    .dataframe thead th {\n",
       "        text-align: right;\n",
       "    }\n",
       "</style>\n",
       "<table border=\"1\" class=\"dataframe\">\n",
       "  <thead>\n",
       "    <tr style=\"text-align: right;\">\n",
       "      <th></th>\n",
       "      <th>name</th>\n",
       "      <th>Gender</th>\n",
       "      <th>Eye color</th>\n",
       "      <th>Hair color</th>\n",
       "      <th>Height</th>\n",
       "      <th>Publisher</th>\n",
       "      <th>Alignment</th>\n",
       "      <th>Weight</th>\n",
       "    </tr>\n",
       "  </thead>\n",
       "  <tbody>\n",
       "    <tr>\n",
       "      <th>255</th>\n",
       "      <td>Fin Fang Foom</td>\n",
       "      <td>Male</td>\n",
       "      <td>red</td>\n",
       "      <td>No Hair</td>\n",
       "      <td>975.0</td>\n",
       "      <td>Marvel Comics</td>\n",
       "      <td>good</td>\n",
       "      <td>18.0</td>\n",
       "    </tr>\n",
       "  </tbody>\n",
       "</table>\n",
       "</div>"
      ],
      "text/plain": [
       "              name Gender Eye color Hair color  Height      Publisher  \\\n",
       "255  Fin Fang Foom   Male       red    No Hair   975.0  Marvel Comics   \n",
       "\n",
       "    Alignment  Weight  \n",
       "255      good    18.0  "
      ]
     },
     "execution_count": 28,
     "metadata": {},
     "output_type": "execute_result"
    }
   ],
   "source": [
    "heroes_df[heroes_df['Height'] == 975]"
   ]
  },
  {
   "cell_type": "markdown",
   "metadata": {},
   "source": [
    "    Well Google says 255 ft or 777.7 m.  Still huge.  Lets keep the outliers.\n",
    "    \n",
    "    Wait, but he he only ways 18kg???  Google says 20 Tons.\n",
    "    \n",
    "    It seems likely that we need to remove the outliers that really don't make sense."
   ]
  },
  {
   "cell_type": "code",
   "execution_count": 29,
   "metadata": {},
   "outputs": [
    {
     "data": {
      "text/html": [
       "<div>\n",
       "<style scoped>\n",
       "    .dataframe tbody tr th:only-of-type {\n",
       "        vertical-align: middle;\n",
       "    }\n",
       "\n",
       "    .dataframe tbody tr th {\n",
       "        vertical-align: top;\n",
       "    }\n",
       "\n",
       "    .dataframe thead th {\n",
       "        text-align: right;\n",
       "    }\n",
       "</style>\n",
       "<table border=\"1\" class=\"dataframe\">\n",
       "  <thead>\n",
       "    <tr style=\"text-align: right;\">\n",
       "      <th></th>\n",
       "      <th>name</th>\n",
       "      <th>Gender</th>\n",
       "      <th>Eye color</th>\n",
       "      <th>Hair color</th>\n",
       "      <th>Height</th>\n",
       "      <th>Publisher</th>\n",
       "      <th>Alignment</th>\n",
       "      <th>Weight</th>\n",
       "    </tr>\n",
       "  </thead>\n",
       "  <tbody>\n",
       "    <tr>\n",
       "      <th>255</th>\n",
       "      <td>Fin Fang Foom</td>\n",
       "      <td>Male</td>\n",
       "      <td>red</td>\n",
       "      <td>No Hair</td>\n",
       "      <td>975.0</td>\n",
       "      <td>Marvel Comics</td>\n",
       "      <td>good</td>\n",
       "      <td>18.0</td>\n",
       "    </tr>\n",
       "    <tr>\n",
       "      <th>272</th>\n",
       "      <td>Galactus</td>\n",
       "      <td>Male</td>\n",
       "      <td>black</td>\n",
       "      <td>Black</td>\n",
       "      <td>876.0</td>\n",
       "      <td>Marvel Comics</td>\n",
       "      <td>neutral</td>\n",
       "      <td>16.0</td>\n",
       "    </tr>\n",
       "    <tr>\n",
       "      <th>302</th>\n",
       "      <td>Groot</td>\n",
       "      <td>Male</td>\n",
       "      <td>yellow</td>\n",
       "      <td>NaN</td>\n",
       "      <td>701.0</td>\n",
       "      <td>Marvel Comics</td>\n",
       "      <td>good</td>\n",
       "      <td>4.0</td>\n",
       "    </tr>\n",
       "    <tr>\n",
       "      <th>463</th>\n",
       "      <td>MODOK</td>\n",
       "      <td>Male</td>\n",
       "      <td>white</td>\n",
       "      <td>Brownn</td>\n",
       "      <td>366.0</td>\n",
       "      <td>Marvel Comics</td>\n",
       "      <td>bad</td>\n",
       "      <td>338.0</td>\n",
       "    </tr>\n",
       "    <tr>\n",
       "      <th>718</th>\n",
       "      <td>Wolfsbane</td>\n",
       "      <td>Female</td>\n",
       "      <td>green</td>\n",
       "      <td>Auburn</td>\n",
       "      <td>366.0</td>\n",
       "      <td>Marvel Comics</td>\n",
       "      <td>good</td>\n",
       "      <td>473.0</td>\n",
       "    </tr>\n",
       "  </tbody>\n",
       "</table>\n",
       "</div>"
      ],
      "text/plain": [
       "              name  Gender Eye color Hair color  Height      Publisher  \\\n",
       "255  Fin Fang Foom    Male       red    No Hair   975.0  Marvel Comics   \n",
       "272       Galactus    Male     black      Black   876.0  Marvel Comics   \n",
       "302          Groot    Male    yellow        NaN   701.0  Marvel Comics   \n",
       "463          MODOK    Male     white     Brownn   366.0  Marvel Comics   \n",
       "718      Wolfsbane  Female     green     Auburn   366.0  Marvel Comics   \n",
       "\n",
       "    Alignment  Weight  \n",
       "255      good    18.0  \n",
       "272   neutral    16.0  \n",
       "302      good     4.0  \n",
       "463       bad   338.0  \n",
       "718      good   473.0  "
      ]
     },
     "execution_count": 29,
     "metadata": {},
     "output_type": "execute_result"
    }
   ],
   "source": [
    "#Find outliers beyond 3 std deviations.\n",
    "height_outliers = heroes_df[np.abs(heroes_df['Height']-heroes_df['Height'].mean()) > (3*heroes_df['Height'].std())]\n",
    "height_outliers"
   ]
  },
  {
   "cell_type": "markdown",
   "metadata": {},
   "source": [
    "    3 of those look clearly wrong and 2 are probably ok.  What if I only want the ones that are.\n",
    "    3 * std of Weight is more than the mean so we aren't going to find those small numbers.  Lets \n",
    "    try taking 1.5 times the inter quartile range for our outlier detection."
   ]
  },
  {
   "cell_type": "code",
   "execution_count": 30,
   "metadata": {},
   "outputs": [
    {
     "data": {
      "text/html": [
       "<div>\n",
       "<style scoped>\n",
       "    .dataframe tbody tr th:only-of-type {\n",
       "        vertical-align: middle;\n",
       "    }\n",
       "\n",
       "    .dataframe tbody tr th {\n",
       "        vertical-align: top;\n",
       "    }\n",
       "\n",
       "    .dataframe thead th {\n",
       "        text-align: right;\n",
       "    }\n",
       "</style>\n",
       "<table border=\"1\" class=\"dataframe\">\n",
       "  <thead>\n",
       "    <tr style=\"text-align: right;\">\n",
       "      <th></th>\n",
       "      <th>name</th>\n",
       "      <th>Gender</th>\n",
       "      <th>Eye color</th>\n",
       "      <th>Hair color</th>\n",
       "      <th>Height</th>\n",
       "      <th>Publisher</th>\n",
       "      <th>Alignment</th>\n",
       "      <th>Weight</th>\n",
       "    </tr>\n",
       "  </thead>\n",
       "  <tbody>\n",
       "    <tr>\n",
       "      <th>0</th>\n",
       "      <td>A-Bomb</td>\n",
       "      <td>Male</td>\n",
       "      <td>yellow</td>\n",
       "      <td>No Hair</td>\n",
       "      <td>203.0</td>\n",
       "      <td>Marvel Comics</td>\n",
       "      <td>good</td>\n",
       "      <td>441.0</td>\n",
       "    </tr>\n",
       "    <tr>\n",
       "      <th>3</th>\n",
       "      <td>Abomination</td>\n",
       "      <td>Male</td>\n",
       "      <td>green</td>\n",
       "      <td>No Hair</td>\n",
       "      <td>203.0</td>\n",
       "      <td>Marvel Comics</td>\n",
       "      <td>bad</td>\n",
       "      <td>441.0</td>\n",
       "    </tr>\n",
       "    <tr>\n",
       "      <th>33</th>\n",
       "      <td>Anti-Venom</td>\n",
       "      <td>Male</td>\n",
       "      <td>blue</td>\n",
       "      <td>Blond</td>\n",
       "      <td>229.0</td>\n",
       "      <td>Marvel Comics</td>\n",
       "      <td>NaN</td>\n",
       "      <td>358.0</td>\n",
       "    </tr>\n",
       "    <tr>\n",
       "      <th>42</th>\n",
       "      <td>Ares</td>\n",
       "      <td>Male</td>\n",
       "      <td>brown</td>\n",
       "      <td>Brown</td>\n",
       "      <td>185.0</td>\n",
       "      <td>Marvel Comics</td>\n",
       "      <td>good</td>\n",
       "      <td>270.0</td>\n",
       "    </tr>\n",
       "    <tr>\n",
       "      <th>78</th>\n",
       "      <td>Beta Ray Bill</td>\n",
       "      <td>Male</td>\n",
       "      <td>NaN</td>\n",
       "      <td>No Hair</td>\n",
       "      <td>201.0</td>\n",
       "      <td>Marvel Comics</td>\n",
       "      <td>good</td>\n",
       "      <td>216.0</td>\n",
       "    </tr>\n",
       "    <tr>\n",
       "      <th>...</th>\n",
       "      <td>...</td>\n",
       "      <td>...</td>\n",
       "      <td>...</td>\n",
       "      <td>...</td>\n",
       "      <td>...</td>\n",
       "      <td>...</td>\n",
       "      <td>...</td>\n",
       "      <td>...</td>\n",
       "    </tr>\n",
       "    <tr>\n",
       "      <th>691</th>\n",
       "      <td>Venom III</td>\n",
       "      <td>Male</td>\n",
       "      <td>brown</td>\n",
       "      <td>Brown</td>\n",
       "      <td>229.0</td>\n",
       "      <td>Marvel Comics</td>\n",
       "      <td>bad</td>\n",
       "      <td>334.0</td>\n",
       "    </tr>\n",
       "    <tr>\n",
       "      <th>698</th>\n",
       "      <td>Violet Parr</td>\n",
       "      <td>Female</td>\n",
       "      <td>violet</td>\n",
       "      <td>Black</td>\n",
       "      <td>137.0</td>\n",
       "      <td>Dark Horse Comics</td>\n",
       "      <td>good</td>\n",
       "      <td>41.0</td>\n",
       "    </tr>\n",
       "    <tr>\n",
       "      <th>717</th>\n",
       "      <td>Wiz Kid</td>\n",
       "      <td>NaN</td>\n",
       "      <td>brown</td>\n",
       "      <td>Black</td>\n",
       "      <td>140.0</td>\n",
       "      <td>Marvel Comics</td>\n",
       "      <td>good</td>\n",
       "      <td>39.0</td>\n",
       "    </tr>\n",
       "    <tr>\n",
       "      <th>718</th>\n",
       "      <td>Wolfsbane</td>\n",
       "      <td>Female</td>\n",
       "      <td>green</td>\n",
       "      <td>Auburn</td>\n",
       "      <td>366.0</td>\n",
       "      <td>Marvel Comics</td>\n",
       "      <td>good</td>\n",
       "      <td>473.0</td>\n",
       "    </tr>\n",
       "    <tr>\n",
       "      <th>731</th>\n",
       "      <td>Yoda</td>\n",
       "      <td>Male</td>\n",
       "      <td>brown</td>\n",
       "      <td>White</td>\n",
       "      <td>66.0</td>\n",
       "      <td>George Lucas</td>\n",
       "      <td>good</td>\n",
       "      <td>17.0</td>\n",
       "    </tr>\n",
       "  </tbody>\n",
       "</table>\n",
       "<p>71 rows × 8 columns</p>\n",
       "</div>"
      ],
      "text/plain": [
       "              name  Gender Eye color Hair color  Height          Publisher  \\\n",
       "0           A-Bomb    Male    yellow    No Hair   203.0      Marvel Comics   \n",
       "3      Abomination    Male     green    No Hair   203.0      Marvel Comics   \n",
       "33      Anti-Venom    Male      blue      Blond   229.0      Marvel Comics   \n",
       "42            Ares    Male     brown      Brown   185.0      Marvel Comics   \n",
       "78   Beta Ray Bill    Male       NaN    No Hair   201.0      Marvel Comics   \n",
       "..             ...     ...       ...        ...     ...                ...   \n",
       "691      Venom III    Male     brown      Brown   229.0      Marvel Comics   \n",
       "698    Violet Parr  Female    violet      Black   137.0  Dark Horse Comics   \n",
       "717        Wiz Kid     NaN     brown      Black   140.0      Marvel Comics   \n",
       "718      Wolfsbane  Female     green     Auburn   366.0      Marvel Comics   \n",
       "731           Yoda    Male     brown      White    66.0       George Lucas   \n",
       "\n",
       "    Alignment  Weight  \n",
       "0        good   441.0  \n",
       "3         bad   441.0  \n",
       "33        NaN   358.0  \n",
       "42       good   270.0  \n",
       "78       good   216.0  \n",
       "..        ...     ...  \n",
       "691       bad   334.0  \n",
       "698      good    41.0  \n",
       "717      good    39.0  \n",
       "718      good   473.0  \n",
       "731      good    17.0  \n",
       "\n",
       "[71 rows x 8 columns]"
      ]
     },
     "execution_count": 30,
     "metadata": {},
     "output_type": "execute_result"
    }
   ],
   "source": [
    "iqr = heroes_df['Weight'].quantile(.75) - heroes_df['Weight'].quantile(.25)\n",
    "weight_outliers = heroes_df[np.abs(heroes_df['Weight']-heroes_df['Weight'].mean()) > (1.5 * iqr)]\n",
    "weight_outliers"
   ]
  },
  {
   "cell_type": "code",
   "execution_count": 31,
   "metadata": {},
   "outputs": [
    {
     "data": {
      "text/html": [
       "<div>\n",
       "<style scoped>\n",
       "    .dataframe tbody tr th:only-of-type {\n",
       "        vertical-align: middle;\n",
       "    }\n",
       "\n",
       "    .dataframe tbody tr th {\n",
       "        vertical-align: top;\n",
       "    }\n",
       "\n",
       "    .dataframe thead th {\n",
       "        text-align: right;\n",
       "    }\n",
       "</style>\n",
       "<table border=\"1\" class=\"dataframe\">\n",
       "  <thead>\n",
       "    <tr style=\"text-align: right;\">\n",
       "      <th></th>\n",
       "      <th>name</th>\n",
       "      <th>Gender</th>\n",
       "      <th>Eye color</th>\n",
       "      <th>Hair color</th>\n",
       "      <th>Height</th>\n",
       "      <th>Publisher</th>\n",
       "      <th>Alignment</th>\n",
       "      <th>Weight</th>\n",
       "    </tr>\n",
       "  </thead>\n",
       "  <tbody>\n",
       "    <tr>\n",
       "      <th>255</th>\n",
       "      <td>Fin Fang Foom</td>\n",
       "      <td>Male</td>\n",
       "      <td>red</td>\n",
       "      <td>No Hair</td>\n",
       "      <td>975.0</td>\n",
       "      <td>Marvel Comics</td>\n",
       "      <td>good</td>\n",
       "      <td>18.0</td>\n",
       "    </tr>\n",
       "    <tr>\n",
       "      <th>272</th>\n",
       "      <td>Galactus</td>\n",
       "      <td>Male</td>\n",
       "      <td>black</td>\n",
       "      <td>Black</td>\n",
       "      <td>876.0</td>\n",
       "      <td>Marvel Comics</td>\n",
       "      <td>neutral</td>\n",
       "      <td>16.0</td>\n",
       "    </tr>\n",
       "    <tr>\n",
       "      <th>302</th>\n",
       "      <td>Groot</td>\n",
       "      <td>Male</td>\n",
       "      <td>yellow</td>\n",
       "      <td>NaN</td>\n",
       "      <td>701.0</td>\n",
       "      <td>Marvel Comics</td>\n",
       "      <td>good</td>\n",
       "      <td>4.0</td>\n",
       "    </tr>\n",
       "    <tr>\n",
       "      <th>463</th>\n",
       "      <td>MODOK</td>\n",
       "      <td>Male</td>\n",
       "      <td>white</td>\n",
       "      <td>Brownn</td>\n",
       "      <td>366.0</td>\n",
       "      <td>Marvel Comics</td>\n",
       "      <td>bad</td>\n",
       "      <td>338.0</td>\n",
       "    </tr>\n",
       "    <tr>\n",
       "      <th>718</th>\n",
       "      <td>Wolfsbane</td>\n",
       "      <td>Female</td>\n",
       "      <td>green</td>\n",
       "      <td>Auburn</td>\n",
       "      <td>366.0</td>\n",
       "      <td>Marvel Comics</td>\n",
       "      <td>good</td>\n",
       "      <td>473.0</td>\n",
       "    </tr>\n",
       "  </tbody>\n",
       "</table>\n",
       "</div>"
      ],
      "text/plain": [
       "              name  Gender Eye color Hair color  Height      Publisher  \\\n",
       "255  Fin Fang Foom    Male       red    No Hair   975.0  Marvel Comics   \n",
       "272       Galactus    Male     black      Black   876.0  Marvel Comics   \n",
       "302          Groot    Male    yellow        NaN   701.0  Marvel Comics   \n",
       "463          MODOK    Male     white     Brownn   366.0  Marvel Comics   \n",
       "718      Wolfsbane  Female     green     Auburn   366.0  Marvel Comics   \n",
       "\n",
       "    Alignment  Weight  \n",
       "255      good    18.0  \n",
       "272   neutral    16.0  \n",
       "302      good     4.0  \n",
       "463       bad   338.0  \n",
       "718      good   473.0  "
      ]
     },
     "execution_count": 31,
     "metadata": {},
     "output_type": "execute_result"
    }
   ],
   "source": [
    "#Now find records in both.\n",
    "weight_outliers.set_index('name')\n",
    "height_outliers.set_index('name')\n",
    "# set(weight_outliers['name']).intersection(height_outliers['name'])\n",
    "# weight_outliers.join(height_outliers['name'], how='inner', suffix='_')\n",
    "# print(weight_outliers.index)\n",
    "# print(height_outliers.index)\n",
    "drop_idx = weight_outliers.index.intersection(height_outliers.index)\n",
    "heroes_df.loc[drop_idx]"
   ]
  },
  {
   "cell_type": "markdown",
   "metadata": {},
   "source": [
    "    So really we only want to remove the low weights because the high weights seem ok."
   ]
  },
  {
   "cell_type": "code",
   "execution_count": 32,
   "metadata": {},
   "outputs": [
    {
     "data": {
      "text/html": [
       "<div>\n",
       "<style scoped>\n",
       "    .dataframe tbody tr th:only-of-type {\n",
       "        vertical-align: middle;\n",
       "    }\n",
       "\n",
       "    .dataframe tbody tr th {\n",
       "        vertical-align: top;\n",
       "    }\n",
       "\n",
       "    .dataframe thead th {\n",
       "        text-align: right;\n",
       "    }\n",
       "</style>\n",
       "<table border=\"1\" class=\"dataframe\">\n",
       "  <thead>\n",
       "    <tr style=\"text-align: right;\">\n",
       "      <th></th>\n",
       "      <th>name</th>\n",
       "      <th>Gender</th>\n",
       "      <th>Eye color</th>\n",
       "      <th>Hair color</th>\n",
       "      <th>Height</th>\n",
       "      <th>Publisher</th>\n",
       "      <th>Alignment</th>\n",
       "      <th>Weight</th>\n",
       "    </tr>\n",
       "  </thead>\n",
       "  <tbody>\n",
       "    <tr>\n",
       "      <th>255</th>\n",
       "      <td>Fin Fang Foom</td>\n",
       "      <td>Male</td>\n",
       "      <td>red</td>\n",
       "      <td>No Hair</td>\n",
       "      <td>975.0</td>\n",
       "      <td>Marvel Comics</td>\n",
       "      <td>good</td>\n",
       "      <td>18.0</td>\n",
       "    </tr>\n",
       "    <tr>\n",
       "      <th>272</th>\n",
       "      <td>Galactus</td>\n",
       "      <td>Male</td>\n",
       "      <td>black</td>\n",
       "      <td>Black</td>\n",
       "      <td>876.0</td>\n",
       "      <td>Marvel Comics</td>\n",
       "      <td>neutral</td>\n",
       "      <td>16.0</td>\n",
       "    </tr>\n",
       "    <tr>\n",
       "      <th>302</th>\n",
       "      <td>Groot</td>\n",
       "      <td>Male</td>\n",
       "      <td>yellow</td>\n",
       "      <td>NaN</td>\n",
       "      <td>701.0</td>\n",
       "      <td>Marvel Comics</td>\n",
       "      <td>good</td>\n",
       "      <td>4.0</td>\n",
       "    </tr>\n",
       "  </tbody>\n",
       "</table>\n",
       "</div>"
      ],
      "text/plain": [
       "              name Gender Eye color Hair color  Height      Publisher  \\\n",
       "255  Fin Fang Foom   Male       red    No Hair   975.0  Marvel Comics   \n",
       "272       Galactus   Male     black      Black   876.0  Marvel Comics   \n",
       "302          Groot   Male    yellow        NaN   701.0  Marvel Comics   \n",
       "\n",
       "    Alignment  Weight  \n",
       "255      good    18.0  \n",
       "272   neutral    16.0  \n",
       "302      good     4.0  "
      ]
     },
     "execution_count": 32,
     "metadata": {},
     "output_type": "execute_result"
    }
   ],
   "source": [
    "drop_idx = height_outliers[height_outliers['Weight'] < heroes_df['Weight'].mean()]\n",
    "drop_idx"
   ]
  },
  {
   "cell_type": "markdown",
   "metadata": {},
   "source": [
    "    drop em!"
   ]
  },
  {
   "cell_type": "code",
   "execution_count": 33,
   "metadata": {},
   "outputs": [],
   "source": [
    "new_df = heroes_df.drop(drop_idx.index)\n",
    "new_df[new_df['name'] == 'Groot']\n",
    "heroes_df = new_df"
   ]
  },
  {
   "cell_type": "code",
   "execution_count": 34,
   "metadata": {},
   "outputs": [
    {
     "data": {
      "text/plain": [
       "count    730.000000\n",
       "mean     182.895205\n",
       "std       24.648414\n",
       "min       15.200000\n",
       "25%      178.000000\n",
       "50%      183.000000\n",
       "75%      185.000000\n",
       "max      366.000000\n",
       "Name: Height, dtype: float64"
      ]
     },
     "execution_count": 34,
     "metadata": {},
     "output_type": "execute_result"
    }
   ],
   "source": [
    "#filled with median\n",
    "heroes_df['Height'].fillna(heroes_df['Height'].median()).describe()"
   ]
  },
  {
   "cell_type": "code",
   "execution_count": 35,
   "metadata": {},
   "outputs": [
    {
     "data": {
      "text/plain": [
       "<AxesSubplot:ylabel='Frequency'>"
      ]
     },
     "execution_count": 35,
     "metadata": {},
     "output_type": "execute_result"
    },
    {
     "data": {
      "image/png": "[encoded data removed]",
      "text/plain": [
       "<Figure size 432x288 with 1 Axes>"
      ]
     },
     "metadata": {
      "needs_background": "light"
     },
     "output_type": "display_data"
    }
   ],
   "source": [
    "heroes_df['Height'].fillna(heroes_df['Height'].mean()).plot.hist(bins=100)"
   ]
  },
  {
   "cell_type": "markdown",
   "metadata": {},
   "source": [
    "    There isn't a huge difference in the result either way so we will use the median to keep the std intact and to prevent \"Fin Fang Foom skew\" :)"
   ]
  },
  {
   "cell_type": "code",
   "execution_count": 36,
   "metadata": {},
   "outputs": [],
   "source": [
    "heroes_df['Height'].fillna(heroes_df['Height'].median(), inplace = True)"
   ]
  },
  {
   "cell_type": "markdown",
   "metadata": {},
   "source": [
    "    Now to deal with weight.  Lets do the same comparisons."
   ]
  },
  {
   "cell_type": "code",
   "execution_count": 37,
   "metadata": {},
   "outputs": [
    {
     "data": {
      "text/plain": [
       "count    730.000000\n",
       "mean     112.859756\n",
       "std       85.495388\n",
       "min        2.000000\n",
       "25%       74.000000\n",
       "50%      106.000000\n",
       "75%      112.859756\n",
       "max      900.000000\n",
       "Name: Weight, dtype: float64"
      ]
     },
     "execution_count": 37,
     "metadata": {},
     "output_type": "execute_result"
    }
   ],
   "source": [
    "heroes_df['Weight'].fillna(heroes_df['Weight'].mean()).describe()"
   ]
  },
  {
   "cell_type": "code",
   "execution_count": 38,
   "metadata": {},
   "outputs": [
    {
     "data": {
      "text/plain": [
       "<AxesSubplot:ylabel='Frequency'>"
      ]
     },
     "execution_count": 38,
     "metadata": {},
     "output_type": "execute_result"
    },
    {
     "data": {
      "image/png": "[encoded data removed]",
      "text/plain": [
       "<Figure size 432x288 with 1 Axes>"
      ]
     },
     "metadata": {
      "needs_background": "light"
     },
     "output_type": "display_data"
    }
   ],
   "source": [
    "heroes_df['Weight'].fillna(heroes_df['Weight'].mean()).plot.hist(bins=100)"
   ]
  },
  {
   "cell_type": "code",
   "execution_count": 39,
   "metadata": {},
   "outputs": [
    {
     "data": {
      "text/plain": [
       "count    730.000000\n",
       "mean     102.472603\n",
       "std       86.791742\n",
       "min        2.000000\n",
       "25%       74.000000\n",
       "50%       81.000000\n",
       "75%       90.000000\n",
       "max      900.000000\n",
       "Name: Weight, dtype: float64"
      ]
     },
     "execution_count": 39,
     "metadata": {},
     "output_type": "execute_result"
    }
   ],
   "source": [
    "heroes_df['Weight'].fillna(heroes_df['Weight'].median()).describe()"
   ]
  },
  {
   "cell_type": "code",
   "execution_count": 40,
   "metadata": {},
   "outputs": [
    {
     "data": {
      "text/plain": [
       "<AxesSubplot:ylabel='Frequency'>"
      ]
     },
     "execution_count": 40,
     "metadata": {},
     "output_type": "execute_result"
    },
    {
     "data": {
      "image/png": "[encoded data removed]",
      "text/plain": [
       "<Figure size 432x288 with 1 Axes>"
      ]
     },
     "metadata": {
      "needs_background": "light"
     },
     "output_type": "display_data"
    }
   ],
   "source": [
    "heroes_df['Weight'].fillna(heroes_df['Weight'].median()).plot.hist(bins=100)"
   ]
  },
  {
   "cell_type": "markdown",
   "metadata": {},
   "source": [
    "    Those both result in big changes.  Again, to prevent the \"Fin Fang Foom Skew\" we will use median.  We could have eliminated the outliers but then we wouldn't have the data on the HUGE super heroes."
   ]
  },
  {
   "cell_type": "code",
   "execution_count": 41,
   "metadata": {},
   "outputs": [],
   "source": [
    "heroes_df['Weight'].fillna(heroes_df['Weight'].median(), inplace = True)"
   ]
  },
  {
   "cell_type": "markdown",
   "metadata": {},
   "source": [
    "    Lets see where we are"
   ]
  },
  {
   "cell_type": "code",
   "execution_count": 42,
   "metadata": {},
   "outputs": [
    {
     "data": {
      "text/plain": [
       "name          0.000000\n",
       "Height        0.000000\n",
       "Weight        0.000000\n",
       "Alignment     0.001199\n",
       "Publisher     0.002568\n",
       "Gender        0.004966\n",
       "Hair color    0.029110\n",
       "Eye color     0.029281\n",
       "dtype: float64"
      ]
     },
     "execution_count": 42,
     "metadata": {},
     "output_type": "execute_result"
    }
   ],
   "source": [
    "(heroes_df.isna().sum() / heroes_df.size).sort_values()"
   ]
  },
  {
   "cell_type": "markdown",
   "metadata": {},
   "source": [
    "    Now to deal with Eye color and Hair color.\n",
    "    \n",
    "    I'm goign to guess that we should fill with the mode because these are categorical.  Lets seem if that seems reasonable after exploring the number of occurences of each value."
   ]
  },
  {
   "cell_type": "code",
   "execution_count": 43,
   "metadata": {},
   "outputs": [
    {
     "data": {
      "text/plain": [
       "Orange / White        1\n",
       "Brown / Black         1\n",
       "Gold                  1\n",
       "Brownn                1\n",
       "Black / Blue          1\n",
       "Red / Orange          1\n",
       "Red / Grey            1\n",
       "Indigo                1\n",
       "Pink                  1\n",
       "Magenta               1\n",
       "Red / White           1\n",
       "Orange                2\n",
       "Yellow                2\n",
       "Blue                  3\n",
       "blond                 3\n",
       "black                 3\n",
       "Brown / White         4\n",
       "Silver                4\n",
       "Grey                  5\n",
       "Purple                5\n",
       "Strawberry Blond      7\n",
       "Green                 8\n",
       "Auburn               13\n",
       "White                23\n",
       "Red                  51\n",
       "No Hair              74\n",
       "Brown                86\n",
       "Blond                99\n",
       "Black               157\n",
       "Name: Hair color, dtype: int64"
      ]
     },
     "execution_count": 43,
     "metadata": {},
     "output_type": "execute_result"
    }
   ],
   "source": [
    "heroes_df['Hair color'].value_counts().sort_values()"
   ]
  },
  {
   "cell_type": "code",
   "execution_count": 44,
   "metadata": {},
   "outputs": [
    {
     "data": {
      "text/plain": [
       "yellow / red                 1\n",
       "bown                         1\n",
       "green / blue                 1\n",
       "silver                       1\n",
       "white / red                  1\n",
       "yellow / blue                1\n",
       "indigo                       1\n",
       "blue / white                 1\n",
       "violet                       2\n",
       "yellow (without irises)      2\n",
       "amber                        2\n",
       "gold                         3\n",
       "purple                       4\n",
       "grey                         6\n",
       "hazel                        6\n",
       "white                       17\n",
       "yellow                      18\n",
       "black                       22\n",
       "red                         45\n",
       "green                       73\n",
       "brown                      126\n",
       "blue                       225\n",
       "Name: Eye color, dtype: int64"
      ]
     },
     "execution_count": 44,
     "metadata": {},
     "output_type": "execute_result"
    }
   ],
   "source": [
    "heroes_df['Eye color'].value_counts().sort_values()"
   ]
  },
  {
   "cell_type": "markdown",
   "metadata": {},
   "source": [
    "    Great.  The mode looks considerably higher than any other values.  Lets fill it!"
   ]
  },
  {
   "cell_type": "code",
   "execution_count": 45,
   "metadata": {},
   "outputs": [],
   "source": [
    "heroes_df['Hair color'] = heroes_df['Hair color'].fillna('Black') #re place with mode"
   ]
  },
  {
   "cell_type": "code",
   "execution_count": 46,
   "metadata": {},
   "outputs": [],
   "source": [
    "heroes_df['Eye color'] = heroes_df['Eye color'].fillna('blue')"
   ]
  },
  {
   "cell_type": "markdown",
   "metadata": {},
   "source": [
    "    What's left?"
   ]
  },
  {
   "cell_type": "code",
   "execution_count": 47,
   "metadata": {},
   "outputs": [
    {
     "data": {
      "text/plain": [
       "name          0.000000\n",
       "Eye color     0.000000\n",
       "Hair color    0.000000\n",
       "Height        0.000000\n",
       "Weight        0.000000\n",
       "Alignment     0.001199\n",
       "Publisher     0.002568\n",
       "Gender        0.004966\n",
       "dtype: float64"
      ]
     },
     "execution_count": 47,
     "metadata": {},
     "output_type": "execute_result"
    }
   ],
   "source": [
    "(heroes_df.isna().sum() / heroes_df.size).sort_values()"
   ]
  },
  {
   "cell_type": "markdown",
   "metadata": {},
   "source": [
    "    Lets see which rows have NaN values for Gender."
   ]
  },
  {
   "cell_type": "code",
   "execution_count": 48,
   "metadata": {},
   "outputs": [
    {
     "data": {
      "text/html": [
       "<div>\n",
       "<style scoped>\n",
       "    .dataframe tbody tr th:only-of-type {\n",
       "        vertical-align: middle;\n",
       "    }\n",
       "\n",
       "    .dataframe tbody tr th {\n",
       "        vertical-align: top;\n",
       "    }\n",
       "\n",
       "    .dataframe thead th {\n",
       "        text-align: right;\n",
       "    }\n",
       "</style>\n",
       "<table border=\"1\" class=\"dataframe\">\n",
       "  <thead>\n",
       "    <tr style=\"text-align: right;\">\n",
       "      <th></th>\n",
       "      <th>name</th>\n",
       "      <th>Gender</th>\n",
       "      <th>Eye color</th>\n",
       "      <th>Hair color</th>\n",
       "      <th>Height</th>\n",
       "      <th>Publisher</th>\n",
       "      <th>Alignment</th>\n",
       "      <th>Weight</th>\n",
       "    </tr>\n",
       "  </thead>\n",
       "  <tbody>\n",
       "    <tr>\n",
       "      <th>87</th>\n",
       "      <td>Bird-Brain</td>\n",
       "      <td>NaN</td>\n",
       "      <td>blue</td>\n",
       "      <td>Black</td>\n",
       "      <td>183.0</td>\n",
       "      <td>Marvel Comics</td>\n",
       "      <td>good</td>\n",
       "      <td>81.0</td>\n",
       "    </tr>\n",
       "    <tr>\n",
       "      <th>112</th>\n",
       "      <td>Blaquesmith</td>\n",
       "      <td>NaN</td>\n",
       "      <td>black</td>\n",
       "      <td>No Hair</td>\n",
       "      <td>183.0</td>\n",
       "      <td>Marvel Comics</td>\n",
       "      <td>good</td>\n",
       "      <td>81.0</td>\n",
       "    </tr>\n",
       "    <tr>\n",
       "      <th>133</th>\n",
       "      <td>Box III</td>\n",
       "      <td>NaN</td>\n",
       "      <td>blue</td>\n",
       "      <td>Blond</td>\n",
       "      <td>193.0</td>\n",
       "      <td>Marvel Comics</td>\n",
       "      <td>good</td>\n",
       "      <td>110.0</td>\n",
       "    </tr>\n",
       "    <tr>\n",
       "      <th>134</th>\n",
       "      <td>Box IV</td>\n",
       "      <td>NaN</td>\n",
       "      <td>brown</td>\n",
       "      <td>Brown / Black</td>\n",
       "      <td>183.0</td>\n",
       "      <td>Marvel Comics</td>\n",
       "      <td>good</td>\n",
       "      <td>81.0</td>\n",
       "    </tr>\n",
       "    <tr>\n",
       "      <th>160</th>\n",
       "      <td>Captain Universe</td>\n",
       "      <td>NaN</td>\n",
       "      <td>blue</td>\n",
       "      <td>Black</td>\n",
       "      <td>183.0</td>\n",
       "      <td>Marvel Comics</td>\n",
       "      <td>good</td>\n",
       "      <td>81.0</td>\n",
       "    </tr>\n",
       "    <tr>\n",
       "      <th>165</th>\n",
       "      <td>Cecilia Reyes</td>\n",
       "      <td>NaN</td>\n",
       "      <td>brown</td>\n",
       "      <td>Brown</td>\n",
       "      <td>170.0</td>\n",
       "      <td>Marvel Comics</td>\n",
       "      <td>good</td>\n",
       "      <td>62.0</td>\n",
       "    </tr>\n",
       "    <tr>\n",
       "      <th>178</th>\n",
       "      <td>Clea</td>\n",
       "      <td>NaN</td>\n",
       "      <td>blue</td>\n",
       "      <td>White</td>\n",
       "      <td>183.0</td>\n",
       "      <td>Marvel Comics</td>\n",
       "      <td>good</td>\n",
       "      <td>81.0</td>\n",
       "    </tr>\n",
       "    <tr>\n",
       "      <th>196</th>\n",
       "      <td>Cypher</td>\n",
       "      <td>NaN</td>\n",
       "      <td>blue</td>\n",
       "      <td>Blond</td>\n",
       "      <td>175.0</td>\n",
       "      <td>Marvel Comics</td>\n",
       "      <td>good</td>\n",
       "      <td>68.0</td>\n",
       "    </tr>\n",
       "    <tr>\n",
       "      <th>204</th>\n",
       "      <td>Darkside</td>\n",
       "      <td>NaN</td>\n",
       "      <td>blue</td>\n",
       "      <td>Black</td>\n",
       "      <td>183.0</td>\n",
       "      <td>NaN</td>\n",
       "      <td>bad</td>\n",
       "      <td>81.0</td>\n",
       "    </tr>\n",
       "    <tr>\n",
       "      <th>234</th>\n",
       "      <td>Ego</td>\n",
       "      <td>NaN</td>\n",
       "      <td>blue</td>\n",
       "      <td>Black</td>\n",
       "      <td>183.0</td>\n",
       "      <td>Marvel Comics</td>\n",
       "      <td>bad</td>\n",
       "      <td>81.0</td>\n",
       "    </tr>\n",
       "    <tr>\n",
       "      <th>249</th>\n",
       "      <td>Fabian Cortez</td>\n",
       "      <td>NaN</td>\n",
       "      <td>blue</td>\n",
       "      <td>Brown</td>\n",
       "      <td>196.0</td>\n",
       "      <td>Marvel Comics</td>\n",
       "      <td>bad</td>\n",
       "      <td>96.0</td>\n",
       "    </tr>\n",
       "    <tr>\n",
       "      <th>253</th>\n",
       "      <td>Feral</td>\n",
       "      <td>NaN</td>\n",
       "      <td>yellow (without irises)</td>\n",
       "      <td>Orange / White</td>\n",
       "      <td>175.0</td>\n",
       "      <td>Marvel Comics</td>\n",
       "      <td>good</td>\n",
       "      <td>50.0</td>\n",
       "    </tr>\n",
       "    <tr>\n",
       "      <th>257</th>\n",
       "      <td>Firelord</td>\n",
       "      <td>NaN</td>\n",
       "      <td>white</td>\n",
       "      <td>Yellow</td>\n",
       "      <td>193.0</td>\n",
       "      <td>Marvel Comics</td>\n",
       "      <td>good</td>\n",
       "      <td>99.0</td>\n",
       "    </tr>\n",
       "    <tr>\n",
       "      <th>261</th>\n",
       "      <td>Fixer</td>\n",
       "      <td>NaN</td>\n",
       "      <td>red</td>\n",
       "      <td>No Hair</td>\n",
       "      <td>183.0</td>\n",
       "      <td>Marvel Comics</td>\n",
       "      <td>bad</td>\n",
       "      <td>81.0</td>\n",
       "    </tr>\n",
       "    <tr>\n",
       "      <th>267</th>\n",
       "      <td>Forge</td>\n",
       "      <td>NaN</td>\n",
       "      <td>brown</td>\n",
       "      <td>Black</td>\n",
       "      <td>183.0</td>\n",
       "      <td>Marvel Comics</td>\n",
       "      <td>good</td>\n",
       "      <td>81.0</td>\n",
       "    </tr>\n",
       "    <tr>\n",
       "      <th>269</th>\n",
       "      <td>Franklin Storm</td>\n",
       "      <td>NaN</td>\n",
       "      <td>blue</td>\n",
       "      <td>Grey</td>\n",
       "      <td>188.0</td>\n",
       "      <td>Marvel Comics</td>\n",
       "      <td>good</td>\n",
       "      <td>92.0</td>\n",
       "    </tr>\n",
       "    <tr>\n",
       "      <th>280</th>\n",
       "      <td>Ghost Rider II</td>\n",
       "      <td>NaN</td>\n",
       "      <td>blue</td>\n",
       "      <td>Black</td>\n",
       "      <td>183.0</td>\n",
       "      <td>Marvel Comics</td>\n",
       "      <td>good</td>\n",
       "      <td>81.0</td>\n",
       "    </tr>\n",
       "    <tr>\n",
       "      <th>286</th>\n",
       "      <td>Godzilla</td>\n",
       "      <td>NaN</td>\n",
       "      <td>blue</td>\n",
       "      <td>Black</td>\n",
       "      <td>108.0</td>\n",
       "      <td>NaN</td>\n",
       "      <td>bad</td>\n",
       "      <td>81.0</td>\n",
       "    </tr>\n",
       "    <tr>\n",
       "      <th>409</th>\n",
       "      <td>Living Brain</td>\n",
       "      <td>NaN</td>\n",
       "      <td>yellow</td>\n",
       "      <td>Black</td>\n",
       "      <td>198.0</td>\n",
       "      <td>Marvel Comics</td>\n",
       "      <td>bad</td>\n",
       "      <td>360.0</td>\n",
       "    </tr>\n",
       "    <tr>\n",
       "      <th>410</th>\n",
       "      <td>Living Tribunal</td>\n",
       "      <td>NaN</td>\n",
       "      <td>blue</td>\n",
       "      <td>No Hair</td>\n",
       "      <td>183.0</td>\n",
       "      <td>Marvel Comics</td>\n",
       "      <td>neutral</td>\n",
       "      <td>81.0</td>\n",
       "    </tr>\n",
       "    <tr>\n",
       "      <th>422</th>\n",
       "      <td>Machine Man</td>\n",
       "      <td>NaN</td>\n",
       "      <td>red</td>\n",
       "      <td>Black</td>\n",
       "      <td>183.0</td>\n",
       "      <td>Marvel Comics</td>\n",
       "      <td>good</td>\n",
       "      <td>383.0</td>\n",
       "    </tr>\n",
       "    <tr>\n",
       "      <th>426</th>\n",
       "      <td>Man of Miracles</td>\n",
       "      <td>NaN</td>\n",
       "      <td>blue</td>\n",
       "      <td>Silver</td>\n",
       "      <td>183.0</td>\n",
       "      <td>Image Comics</td>\n",
       "      <td>NaN</td>\n",
       "      <td>81.0</td>\n",
       "    </tr>\n",
       "    <tr>\n",
       "      <th>503</th>\n",
       "      <td>One-Above-All</td>\n",
       "      <td>NaN</td>\n",
       "      <td>blue</td>\n",
       "      <td>Black</td>\n",
       "      <td>183.0</td>\n",
       "      <td>Marvel Comics</td>\n",
       "      <td>neutral</td>\n",
       "      <td>81.0</td>\n",
       "    </tr>\n",
       "    <tr>\n",
       "      <th>509</th>\n",
       "      <td>Parademon</td>\n",
       "      <td>NaN</td>\n",
       "      <td>blue</td>\n",
       "      <td>Black</td>\n",
       "      <td>183.0</td>\n",
       "      <td>DC Comics</td>\n",
       "      <td>bad</td>\n",
       "      <td>81.0</td>\n",
       "    </tr>\n",
       "    <tr>\n",
       "      <th>511</th>\n",
       "      <td>Penance</td>\n",
       "      <td>NaN</td>\n",
       "      <td>blue</td>\n",
       "      <td>Black</td>\n",
       "      <td>183.0</td>\n",
       "      <td>Marvel Comics</td>\n",
       "      <td>good</td>\n",
       "      <td>81.0</td>\n",
       "    </tr>\n",
       "    <tr>\n",
       "      <th>586</th>\n",
       "      <td>Shadow King</td>\n",
       "      <td>NaN</td>\n",
       "      <td>red</td>\n",
       "      <td>Black</td>\n",
       "      <td>185.0</td>\n",
       "      <td>Marvel Comics</td>\n",
       "      <td>good</td>\n",
       "      <td>149.0</td>\n",
       "    </tr>\n",
       "    <tr>\n",
       "      <th>623</th>\n",
       "      <td>Spider-Man</td>\n",
       "      <td>NaN</td>\n",
       "      <td>red</td>\n",
       "      <td>Brown</td>\n",
       "      <td>178.0</td>\n",
       "      <td>Marvel Comics</td>\n",
       "      <td>good</td>\n",
       "      <td>77.0</td>\n",
       "    </tr>\n",
       "    <tr>\n",
       "      <th>700</th>\n",
       "      <td>Vision II</td>\n",
       "      <td>NaN</td>\n",
       "      <td>red</td>\n",
       "      <td>No Hair</td>\n",
       "      <td>191.0</td>\n",
       "      <td>Marvel Comics</td>\n",
       "      <td>good</td>\n",
       "      <td>135.0</td>\n",
       "    </tr>\n",
       "    <tr>\n",
       "      <th>717</th>\n",
       "      <td>Wiz Kid</td>\n",
       "      <td>NaN</td>\n",
       "      <td>brown</td>\n",
       "      <td>Black</td>\n",
       "      <td>140.0</td>\n",
       "      <td>Marvel Comics</td>\n",
       "      <td>good</td>\n",
       "      <td>39.0</td>\n",
       "    </tr>\n",
       "  </tbody>\n",
       "</table>\n",
       "</div>"
      ],
      "text/plain": [
       "                 name Gender                Eye color      Hair color  Height  \\\n",
       "87         Bird-Brain    NaN                     blue           Black   183.0   \n",
       "112       Blaquesmith    NaN                    black         No Hair   183.0   \n",
       "133           Box III    NaN                     blue           Blond   193.0   \n",
       "134            Box IV    NaN                    brown   Brown / Black   183.0   \n",
       "160  Captain Universe    NaN                     blue           Black   183.0   \n",
       "165     Cecilia Reyes    NaN                    brown           Brown   170.0   \n",
       "178              Clea    NaN                     blue           White   183.0   \n",
       "196            Cypher    NaN                     blue           Blond   175.0   \n",
       "204          Darkside    NaN                     blue           Black   183.0   \n",
       "234               Ego    NaN                     blue           Black   183.0   \n",
       "249     Fabian Cortez    NaN                     blue           Brown   196.0   \n",
       "253             Feral    NaN  yellow (without irises)  Orange / White   175.0   \n",
       "257          Firelord    NaN                    white          Yellow   193.0   \n",
       "261             Fixer    NaN                      red         No Hair   183.0   \n",
       "267             Forge    NaN                    brown           Black   183.0   \n",
       "269    Franklin Storm    NaN                     blue            Grey   188.0   \n",
       "280    Ghost Rider II    NaN                     blue           Black   183.0   \n",
       "286          Godzilla    NaN                     blue           Black   108.0   \n",
       "409      Living Brain    NaN                   yellow           Black   198.0   \n",
       "410   Living Tribunal    NaN                     blue         No Hair   183.0   \n",
       "422       Machine Man    NaN                      red           Black   183.0   \n",
       "426   Man of Miracles    NaN                     blue          Silver   183.0   \n",
       "503     One-Above-All    NaN                     blue           Black   183.0   \n",
       "509         Parademon    NaN                     blue           Black   183.0   \n",
       "511           Penance    NaN                     blue           Black   183.0   \n",
       "586       Shadow King    NaN                      red           Black   185.0   \n",
       "623        Spider-Man    NaN                      red           Brown   178.0   \n",
       "700         Vision II    NaN                      red         No Hair   191.0   \n",
       "717           Wiz Kid    NaN                    brown           Black   140.0   \n",
       "\n",
       "         Publisher Alignment  Weight  \n",
       "87   Marvel Comics      good    81.0  \n",
       "112  Marvel Comics      good    81.0  \n",
       "133  Marvel Comics      good   110.0  \n",
       "134  Marvel Comics      good    81.0  \n",
       "160  Marvel Comics      good    81.0  \n",
       "165  Marvel Comics      good    62.0  \n",
       "178  Marvel Comics      good    81.0  \n",
       "196  Marvel Comics      good    68.0  \n",
       "204            NaN       bad    81.0  \n",
       "234  Marvel Comics       bad    81.0  \n",
       "249  Marvel Comics       bad    96.0  \n",
       "253  Marvel Comics      good    50.0  \n",
       "257  Marvel Comics      good    99.0  \n",
       "261  Marvel Comics       bad    81.0  \n",
       "267  Marvel Comics      good    81.0  \n",
       "269  Marvel Comics      good    92.0  \n",
       "280  Marvel Comics      good    81.0  \n",
       "286            NaN       bad    81.0  \n",
       "409  Marvel Comics       bad   360.0  \n",
       "410  Marvel Comics   neutral    81.0  \n",
       "422  Marvel Comics      good   383.0  \n",
       "426   Image Comics       NaN    81.0  \n",
       "503  Marvel Comics   neutral    81.0  \n",
       "509      DC Comics       bad    81.0  \n",
       "511  Marvel Comics      good    81.0  \n",
       "586  Marvel Comics      good   149.0  \n",
       "623  Marvel Comics      good    77.0  \n",
       "700  Marvel Comics      good   135.0  \n",
       "717  Marvel Comics      good    39.0  "
      ]
     },
     "execution_count": 48,
     "metadata": {},
     "output_type": "execute_result"
    }
   ],
   "source": [
    "heroes_df[heroes_df['Gender'].isna()]"
   ]
  },
  {
   "cell_type": "markdown",
   "metadata": {},
   "source": [
    "    Hmm.  Spider-MAN, Man of Miracles, and Machine, Man are on that list.  But then so are Cecilia Reyes and Clea.  This is a small enough percentage of our data that I will drop the rows.  It will take care of some of my NaN publisher rows too.\n",
    "    \n",
    "    While I'm at it I will drop NaN publishers and alignment rows."
   ]
  },
  {
   "cell_type": "code",
   "execution_count": 49,
   "metadata": {},
   "outputs": [],
   "source": [
    "heroes_df = heroes_df.dropna()"
   ]
  },
  {
   "cell_type": "code",
   "execution_count": 50,
   "metadata": {},
   "outputs": [
    {
     "data": {
      "text/plain": [
       "name          0\n",
       "Gender        0\n",
       "Eye color     0\n",
       "Hair color    0\n",
       "Height        0\n",
       "Publisher     0\n",
       "Alignment     0\n",
       "Weight        0\n",
       "dtype: int64"
      ]
     },
     "execution_count": 50,
     "metadata": {},
     "output_type": "execute_result"
    }
   ],
   "source": [
    "heroes_df.isna().sum()"
   ]
  },
  {
   "cell_type": "markdown",
   "metadata": {},
   "source": [
    "    Phew, this really is 80% of the work."
   ]
  },
  {
   "cell_type": "markdown",
   "metadata": {},
   "source": [
    "## Joining, Grouping, and Aggregating\n",
    "\n",
    "In the cell below, join the two DataFrames.  Think about which sort of join you should use, as well as which columns you should join on.  Rename columns and manipulate as needed.  \n",
    "\n",
    "**_HINT:_** Consider the possibility that the columns you choose to join on contain duplicate entries. If that is the case, devise a strategy to deal with the duplicates.\n",
    "\n",
    "**_HINT:_** If the join throws an error message, consider setting the column you want to join on as the index for each DataFrame.  "
   ]
  },
  {
   "cell_type": "code",
   "execution_count": 51,
   "metadata": {},
   "outputs": [
    {
     "data": {
      "text/html": [
       "<div>\n",
       "<style scoped>\n",
       "    .dataframe tbody tr th:only-of-type {\n",
       "        vertical-align: middle;\n",
       "    }\n",
       "\n",
       "    .dataframe tbody tr th {\n",
       "        vertical-align: top;\n",
       "    }\n",
       "\n",
       "    .dataframe thead th {\n",
       "        text-align: right;\n",
       "    }\n",
       "</style>\n",
       "<table border=\"1\" class=\"dataframe\">\n",
       "  <thead>\n",
       "    <tr style=\"text-align: right;\">\n",
       "      <th></th>\n",
       "      <th>Gender</th>\n",
       "      <th>Eye color</th>\n",
       "      <th>Hair color</th>\n",
       "      <th>Height</th>\n",
       "      <th>Publisher</th>\n",
       "      <th>Alignment</th>\n",
       "      <th>Weight</th>\n",
       "    </tr>\n",
       "    <tr>\n",
       "      <th>name</th>\n",
       "      <th></th>\n",
       "      <th></th>\n",
       "      <th></th>\n",
       "      <th></th>\n",
       "      <th></th>\n",
       "      <th></th>\n",
       "      <th></th>\n",
       "    </tr>\n",
       "  </thead>\n",
       "  <tbody>\n",
       "    <tr>\n",
       "      <th>A-Bomb</th>\n",
       "      <td>Male</td>\n",
       "      <td>yellow</td>\n",
       "      <td>No Hair</td>\n",
       "      <td>203.0</td>\n",
       "      <td>Marvel Comics</td>\n",
       "      <td>good</td>\n",
       "      <td>441.0</td>\n",
       "    </tr>\n",
       "    <tr>\n",
       "      <th>Abe Sapien</th>\n",
       "      <td>Male</td>\n",
       "      <td>blue</td>\n",
       "      <td>No Hair</td>\n",
       "      <td>191.0</td>\n",
       "      <td>Dark Horse Comics</td>\n",
       "      <td>good</td>\n",
       "      <td>65.0</td>\n",
       "    </tr>\n",
       "    <tr>\n",
       "      <th>Abin Sur</th>\n",
       "      <td>Male</td>\n",
       "      <td>blue</td>\n",
       "      <td>No Hair</td>\n",
       "      <td>185.0</td>\n",
       "      <td>DC Comics</td>\n",
       "      <td>good</td>\n",
       "      <td>90.0</td>\n",
       "    </tr>\n",
       "    <tr>\n",
       "      <th>Abomination</th>\n",
       "      <td>Male</td>\n",
       "      <td>green</td>\n",
       "      <td>No Hair</td>\n",
       "      <td>203.0</td>\n",
       "      <td>Marvel Comics</td>\n",
       "      <td>bad</td>\n",
       "      <td>441.0</td>\n",
       "    </tr>\n",
       "    <tr>\n",
       "      <th>Abraxas</th>\n",
       "      <td>Male</td>\n",
       "      <td>blue</td>\n",
       "      <td>Black</td>\n",
       "      <td>183.0</td>\n",
       "      <td>Marvel Comics</td>\n",
       "      <td>bad</td>\n",
       "      <td>81.0</td>\n",
       "    </tr>\n",
       "  </tbody>\n",
       "</table>\n",
       "</div>"
      ],
      "text/plain": [
       "            Gender Eye color Hair color  Height          Publisher Alignment  \\\n",
       "name                                                                           \n",
       "A-Bomb        Male    yellow    No Hair   203.0      Marvel Comics      good   \n",
       "Abe Sapien    Male      blue    No Hair   191.0  Dark Horse Comics      good   \n",
       "Abin Sur      Male      blue    No Hair   185.0          DC Comics      good   \n",
       "Abomination   Male     green    No Hair   203.0      Marvel Comics       bad   \n",
       "Abraxas       Male      blue      Black   183.0      Marvel Comics       bad   \n",
       "\n",
       "             Weight  \n",
       "name                 \n",
       "A-Bomb        441.0  \n",
       "Abe Sapien     65.0  \n",
       "Abin Sur       90.0  \n",
       "Abomination   441.0  \n",
       "Abraxas        81.0  "
      ]
     },
     "execution_count": 51,
     "metadata": {},
     "output_type": "execute_result"
    }
   ],
   "source": [
    "heroes_df.set_index('name', inplace=True)\n",
    "heroes_df.head()"
   ]
  },
  {
   "cell_type": "code",
   "execution_count": 52,
   "metadata": {},
   "outputs": [
    {
     "data": {
      "text/html": [
       "<div>\n",
       "<style scoped>\n",
       "    .dataframe tbody tr th:only-of-type {\n",
       "        vertical-align: middle;\n",
       "    }\n",
       "\n",
       "    .dataframe tbody tr th {\n",
       "        vertical-align: top;\n",
       "    }\n",
       "\n",
       "    .dataframe thead th {\n",
       "        text-align: right;\n",
       "    }\n",
       "</style>\n",
       "<table border=\"1\" class=\"dataframe\">\n",
       "  <thead>\n",
       "    <tr style=\"text-align: right;\">\n",
       "      <th></th>\n",
       "      <th>Agility</th>\n",
       "      <th>Accelerated Healing</th>\n",
       "      <th>Lantern Power Ring</th>\n",
       "      <th>Dimensional Awareness</th>\n",
       "      <th>Cold Resistance</th>\n",
       "      <th>Durability</th>\n",
       "      <th>Stealth</th>\n",
       "      <th>Energy Absorption</th>\n",
       "      <th>Flight</th>\n",
       "      <th>Danger Sense</th>\n",
       "      <th>...</th>\n",
       "      <th>Web Creation</th>\n",
       "      <th>Reality Warping</th>\n",
       "      <th>Odin Force</th>\n",
       "      <th>Symbiote Costume</th>\n",
       "      <th>Speed Force</th>\n",
       "      <th>Phoenix Force</th>\n",
       "      <th>Molecular Dissipation</th>\n",
       "      <th>Vision - Cryo</th>\n",
       "      <th>Omnipresent</th>\n",
       "      <th>Omniscient</th>\n",
       "    </tr>\n",
       "    <tr>\n",
       "      <th>hero_names</th>\n",
       "      <th></th>\n",
       "      <th></th>\n",
       "      <th></th>\n",
       "      <th></th>\n",
       "      <th></th>\n",
       "      <th></th>\n",
       "      <th></th>\n",
       "      <th></th>\n",
       "      <th></th>\n",
       "      <th></th>\n",
       "      <th></th>\n",
       "      <th></th>\n",
       "      <th></th>\n",
       "      <th></th>\n",
       "      <th></th>\n",
       "      <th></th>\n",
       "      <th></th>\n",
       "      <th></th>\n",
       "      <th></th>\n",
       "      <th></th>\n",
       "      <th></th>\n",
       "    </tr>\n",
       "  </thead>\n",
       "  <tbody>\n",
       "    <tr>\n",
       "      <th>3-D Man</th>\n",
       "      <td>True</td>\n",
       "      <td>False</td>\n",
       "      <td>False</td>\n",
       "      <td>False</td>\n",
       "      <td>False</td>\n",
       "      <td>False</td>\n",
       "      <td>False</td>\n",
       "      <td>False</td>\n",
       "      <td>False</td>\n",
       "      <td>False</td>\n",
       "      <td>...</td>\n",
       "      <td>False</td>\n",
       "      <td>False</td>\n",
       "      <td>False</td>\n",
       "      <td>False</td>\n",
       "      <td>False</td>\n",
       "      <td>False</td>\n",
       "      <td>False</td>\n",
       "      <td>False</td>\n",
       "      <td>False</td>\n",
       "      <td>False</td>\n",
       "    </tr>\n",
       "    <tr>\n",
       "      <th>A-Bomb</th>\n",
       "      <td>False</td>\n",
       "      <td>True</td>\n",
       "      <td>False</td>\n",
       "      <td>False</td>\n",
       "      <td>False</td>\n",
       "      <td>True</td>\n",
       "      <td>False</td>\n",
       "      <td>False</td>\n",
       "      <td>False</td>\n",
       "      <td>False</td>\n",
       "      <td>...</td>\n",
       "      <td>False</td>\n",
       "      <td>False</td>\n",
       "      <td>False</td>\n",
       "      <td>False</td>\n",
       "      <td>False</td>\n",
       "      <td>False</td>\n",
       "      <td>False</td>\n",
       "      <td>False</td>\n",
       "      <td>False</td>\n",
       "      <td>False</td>\n",
       "    </tr>\n",
       "    <tr>\n",
       "      <th>Abe Sapien</th>\n",
       "      <td>True</td>\n",
       "      <td>True</td>\n",
       "      <td>False</td>\n",
       "      <td>False</td>\n",
       "      <td>True</td>\n",
       "      <td>True</td>\n",
       "      <td>False</td>\n",
       "      <td>False</td>\n",
       "      <td>False</td>\n",
       "      <td>False</td>\n",
       "      <td>...</td>\n",
       "      <td>False</td>\n",
       "      <td>False</td>\n",
       "      <td>False</td>\n",
       "      <td>False</td>\n",
       "      <td>False</td>\n",
       "      <td>False</td>\n",
       "      <td>False</td>\n",
       "      <td>False</td>\n",
       "      <td>False</td>\n",
       "      <td>False</td>\n",
       "    </tr>\n",
       "    <tr>\n",
       "      <th>Abin Sur</th>\n",
       "      <td>False</td>\n",
       "      <td>False</td>\n",
       "      <td>True</td>\n",
       "      <td>False</td>\n",
       "      <td>False</td>\n",
       "      <td>False</td>\n",
       "      <td>False</td>\n",
       "      <td>False</td>\n",
       "      <td>False</td>\n",
       "      <td>False</td>\n",
       "      <td>...</td>\n",
       "      <td>False</td>\n",
       "      <td>False</td>\n",
       "      <td>False</td>\n",
       "      <td>False</td>\n",
       "      <td>False</td>\n",
       "      <td>False</td>\n",
       "      <td>False</td>\n",
       "      <td>False</td>\n",
       "      <td>False</td>\n",
       "      <td>False</td>\n",
       "    </tr>\n",
       "    <tr>\n",
       "      <th>Abomination</th>\n",
       "      <td>False</td>\n",
       "      <td>True</td>\n",
       "      <td>False</td>\n",
       "      <td>False</td>\n",
       "      <td>False</td>\n",
       "      <td>False</td>\n",
       "      <td>False</td>\n",
       "      <td>False</td>\n",
       "      <td>False</td>\n",
       "      <td>False</td>\n",
       "      <td>...</td>\n",
       "      <td>False</td>\n",
       "      <td>False</td>\n",
       "      <td>False</td>\n",
       "      <td>False</td>\n",
       "      <td>False</td>\n",
       "      <td>False</td>\n",
       "      <td>False</td>\n",
       "      <td>False</td>\n",
       "      <td>False</td>\n",
       "      <td>False</td>\n",
       "    </tr>\n",
       "  </tbody>\n",
       "</table>\n",
       "<p>5 rows × 167 columns</p>\n",
       "</div>"
      ],
      "text/plain": [
       "             Agility  Accelerated Healing  Lantern Power Ring  \\\n",
       "hero_names                                                      \n",
       "3-D Man         True                False               False   \n",
       "A-Bomb         False                 True               False   \n",
       "Abe Sapien      True                 True               False   \n",
       "Abin Sur       False                False                True   \n",
       "Abomination    False                 True               False   \n",
       "\n",
       "             Dimensional Awareness  Cold Resistance  Durability  Stealth  \\\n",
       "hero_names                                                                 \n",
       "3-D Man                      False            False       False    False   \n",
       "A-Bomb                       False            False        True    False   \n",
       "Abe Sapien                   False             True        True    False   \n",
       "Abin Sur                     False            False       False    False   \n",
       "Abomination                  False            False       False    False   \n",
       "\n",
       "             Energy Absorption  Flight  Danger Sense  ...  Web Creation  \\\n",
       "hero_names                                            ...                 \n",
       "3-D Man                  False   False         False  ...         False   \n",
       "A-Bomb                   False   False         False  ...         False   \n",
       "Abe Sapien               False   False         False  ...         False   \n",
       "Abin Sur                 False   False         False  ...         False   \n",
       "Abomination              False   False         False  ...         False   \n",
       "\n",
       "             Reality Warping  Odin Force  Symbiote Costume  Speed Force  \\\n",
       "hero_names                                                                \n",
       "3-D Man                False       False             False        False   \n",
       "A-Bomb                 False       False             False        False   \n",
       "Abe Sapien             False       False             False        False   \n",
       "Abin Sur               False       False             False        False   \n",
       "Abomination            False       False             False        False   \n",
       "\n",
       "             Phoenix Force  Molecular Dissipation  Vision - Cryo  Omnipresent  \\\n",
       "hero_names                                                                      \n",
       "3-D Man              False                  False          False        False   \n",
       "A-Bomb               False                  False          False        False   \n",
       "Abe Sapien           False                  False          False        False   \n",
       "Abin Sur             False                  False          False        False   \n",
       "Abomination          False                  False          False        False   \n",
       "\n",
       "             Omniscient  \n",
       "hero_names               \n",
       "3-D Man           False  \n",
       "A-Bomb            False  \n",
       "Abe Sapien        False  \n",
       "Abin Sur          False  \n",
       "Abomination       False  \n",
       "\n",
       "[5 rows x 167 columns]"
      ]
     },
     "execution_count": 52,
     "metadata": {},
     "output_type": "execute_result"
    }
   ],
   "source": [
    "powers_df.set_index('hero_names', inplace=True)\n",
    "powers_df.head()"
   ]
  },
  {
   "cell_type": "code",
   "execution_count": 53,
   "metadata": {},
   "outputs": [
    {
     "data": {
      "text/plain": [
       "2"
      ]
     },
     "execution_count": 53,
     "metadata": {},
     "output_type": "execute_result"
    }
   ],
   "source": [
    "heroes_df.index.value_counts().max()"
   ]
  },
  {
   "cell_type": "code",
   "execution_count": 54,
   "metadata": {},
   "outputs": [
    {
     "data": {
      "text/plain": [
       "1"
      ]
     },
     "execution_count": 54,
     "metadata": {},
     "output_type": "execute_result"
    }
   ],
   "source": [
    "powers_df.index.value_counts().max()\n",
    "# powers_df.columns"
   ]
  },
  {
   "cell_type": "code",
   "execution_count": 55,
   "metadata": {},
   "outputs": [],
   "source": [
    "# since most of the questions below are about powers we are going to join on name in the powers_df which is unique\n",
    "# for each superhero\n",
    "hero_powers = heroes_df.join(powers_df, how='right' )"
   ]
  },
  {
   "cell_type": "markdown",
   "metadata": {},
   "source": [
    "In the cell below, subset male and female heroes into different dataframes.  Create a scatterplot of the height and weight of each hero, with weight as the y-axis.  Plot both the male and female heroes subset into each dataframe, and make the color for each point in the scatterplot correspond to the gender of the superhero."
   ]
  },
  {
   "cell_type": "code",
   "execution_count": 56,
   "metadata": {},
   "outputs": [
    {
     "data": {
      "text/plain": [
       "Text(0.5, 0, 'Weight in kg')"
      ]
     },
     "execution_count": 56,
     "metadata": {},
     "output_type": "execute_result"
    },
    {
     "data": {
      "image/png": "[encoded data removed]",
      "text/plain": [
       "<Figure size 432x288 with 1 Axes>"
      ]
     },
     "metadata": {
      "needs_background": "light"
     },
     "output_type": "display_data"
    }
   ],
   "source": [
    "# use hero powers because each hero is only represented once. For this it might have been best to use \n",
    "# heroes_df and remove rows with duplicate names. \n",
    "# male_heros = hero_powers[hero_powers['Gender'] == 'Male']\n",
    "# female_heros = hero_powers[hero_powers['Gender'] == 'Female']\n",
    "\n",
    "# plt.scatter(x=male_heros['Weight'],\n",
    "#             y=male_heros['Height'],\n",
    "#             c='DarkBlue', alpha=0.5)\n",
    "\n",
    "# plt.scatter(x=female_heros['Weight'],\n",
    "#             y=female_heros['Height'],\n",
    "#             c='Green', alpha=0.5)\n",
    "\n",
    "\n",
    "colors = {'Male' : 'DarkBlue', 'Female' : 'Green'}\n",
    "\n",
    "plt.scatter(x = heroes_df['Weight'],\n",
    "            y = heroes_df['Height'], \n",
    "            c=heroes_df['Gender'].apply(lambda x: colors[x]),\n",
    "            alpha = 0.5)\n",
    "\n",
    "\n",
    "plt.title('Superhero height and weight by gender')\n",
    "plt.ylabel('Height in cm')\n",
    "plt.xlabel('Weight in kg')\n",
    "plt.legend()"
   ]
  },
  {
   "cell_type": "markdown",
   "metadata": {},
   "source": [
    "## Some Initial Investigation\n",
    "\n",
    "Next, slice the DataFrame as needed and visualize the distribution of heights and weights by gender.  You should have 4 total plots.  \n",
    "\n",
    "In the cell below:\n",
    "\n",
    "* Slice the DataFrame into separate DataFrames by gender\n",
    "* Complete the `show_distplot()` function.  This helper function should take in a DataFrame, a string containing the gender we want to visualize, and the column name we want to visualize by gender. The function should display a distplot visualization from seaborn of the column/gender combination.  \n",
    "\n",
    "Hint: Don't forget to check the [seaborn documentation for distplot](https://seaborn.pydata.org/generated/seaborn.distplot.html) if you have questions about how to use it correctly! "
   ]
  },
  {
   "cell_type": "code",
   "execution_count": 57,
   "metadata": {},
   "outputs": [],
   "source": [
    "male_heroes_df = hero_powers[hero_powers['Gender'] == 'Male']\n",
    "female_heroes_df = hero_powers[hero_powers['Gender'] == 'Female']\n",
    "\n",
    "def show_distplot(dataframe, gender, column_name):\n",
    "    sns.distplot(dataframe[dataframe['Gender'] == gender][column_name])"
   ]
  },
  {
   "cell_type": "code",
   "execution_count": 58,
   "metadata": {},
   "outputs": [
    {
     "name": "stderr",
     "output_type": "stream",
     "text": [
      "/srv/conda/envs/notebook/lib/python3.8/site-packages/seaborn/distributions.py:2551: FutureWarning: `distplot` is a deprecated function and will be removed in a future version. Please adapt your code to use either `displot` (a figure-level function with similar flexibility) or `histplot` (an axes-level function for histograms).\n",
      "  warnings.warn(msg, FutureWarning)\n"
     ]
    },
    {
     "data": {
      "image/png": "[encoded data removed]",
      "text/plain": [
       "<Figure size 432x288 with 1 Axes>"
      ]
     },
     "metadata": {
      "needs_background": "light"
     },
     "output_type": "display_data"
    }
   ],
   "source": [
    "# Male Height\n",
    "show_distplot(heroes_df, 'Male', 'Height')"
   ]
  },
  {
   "cell_type": "code",
   "execution_count": 59,
   "metadata": {},
   "outputs": [
    {
     "name": "stderr",
     "output_type": "stream",
     "text": [
      "/srv/conda/envs/notebook/lib/python3.8/site-packages/seaborn/distributions.py:2551: FutureWarning: `distplot` is a deprecated function and will be removed in a future version. Please adapt your code to use either `displot` (a figure-level function with similar flexibility) or `histplot` (an axes-level function for histograms).\n",
      "  warnings.warn(msg, FutureWarning)\n"
     ]
    },
    {
     "data": {
      "image/png": "[encoded data removed]",
      "text/plain": [
       "<Figure size 432x288 with 1 Axes>"
      ]
     },
     "metadata": {
      "needs_background": "light"
     },
     "output_type": "display_data"
    }
   ],
   "source": [
    "# Male Weight\n",
    "show_distplot(heroes_df, 'Male', 'Weight')"
   ]
  },
  {
   "cell_type": "code",
   "execution_count": 60,
   "metadata": {},
   "outputs": [
    {
     "name": "stderr",
     "output_type": "stream",
     "text": [
      "/srv/conda/envs/notebook/lib/python3.8/site-packages/seaborn/distributions.py:2551: FutureWarning: `distplot` is a deprecated function and will be removed in a future version. Please adapt your code to use either `displot` (a figure-level function with similar flexibility) or `histplot` (an axes-level function for histograms).\n",
      "  warnings.warn(msg, FutureWarning)\n"
     ]
    },
    {
     "data": {
      "image/png": "[encoded data removed]",
      "text/plain": [
       "<Figure size 432x288 with 1 Axes>"
      ]
     },
     "metadata": {
      "needs_background": "light"
     },
     "output_type": "display_data"
    }
   ],
   "source": [
    "# Female Height\n",
    "show_distplot(heroes_df, 'Female', 'Height')\n",
    "\n",
    "\n",
    "# What is density on y axis."
   ]
  },
  {
   "cell_type": "code",
   "execution_count": 61,
   "metadata": {},
   "outputs": [
    {
     "name": "stderr",
     "output_type": "stream",
     "text": [
      "/srv/conda/envs/notebook/lib/python3.8/site-packages/seaborn/distributions.py:2551: FutureWarning: `distplot` is a deprecated function and will be removed in a future version. Please adapt your code to use either `displot` (a figure-level function with similar flexibility) or `histplot` (an axes-level function for histograms).\n",
      "  warnings.warn(msg, FutureWarning)\n"
     ]
    },
    {
     "data": {
      "image/png": "[encoded data removed]",
      "text/plain": [
       "<Figure size 432x288 with 1 Axes>"
      ]
     },
     "metadata": {
      "needs_background": "light"
     },
     "output_type": "display_data"
    }
   ],
   "source": [
    "# Female Weight\n",
    "show_distplot(heroes_df, 'Female', 'Weight')"
   ]
  },
  {
   "cell_type": "code",
   "execution_count": 62,
   "metadata": {},
   "outputs": [
    {
     "name": "stderr",
     "output_type": "stream",
     "text": [
      "/srv/conda/envs/notebook/lib/python3.8/site-packages/seaborn/distributions.py:2551: FutureWarning: `distplot` is a deprecated function and will be removed in a future version. Please adapt your code to use either `displot` (a figure-level function with similar flexibility) or `histplot` (an axes-level function for histograms).\n",
      "  warnings.warn(msg, FutureWarning)\n",
      "/srv/conda/envs/notebook/lib/python3.8/site-packages/seaborn/distributions.py:2551: FutureWarning: `distplot` is a deprecated function and will be removed in a future version. Please adapt your code to use either `displot` (a figure-level function with similar flexibility) or `histplot` (an axes-level function for histograms).\n",
      "  warnings.warn(msg, FutureWarning)\n",
      "/srv/conda/envs/notebook/lib/python3.8/site-packages/seaborn/distributions.py:2551: FutureWarning: `distplot` is a deprecated function and will be removed in a future version. Please adapt your code to use either `displot` (a figure-level function with similar flexibility) or `histplot` (an axes-level function for histograms).\n",
      "  warnings.warn(msg, FutureWarning)\n",
      "/srv/conda/envs/notebook/lib/python3.8/site-packages/seaborn/distributions.py:2551: FutureWarning: `distplot` is a deprecated function and will be removed in a future version. Please adapt your code to use either `displot` (a figure-level function with similar flexibility) or `histplot` (an axes-level function for histograms).\n",
      "  warnings.warn(msg, FutureWarning)\n"
     ]
    },
    {
     "data": {
      "text/plain": [
       "<seaborn.axisgrid.FacetGrid at 0x7fae055f43a0>"
      ]
     },
     "execution_count": 62,
     "metadata": {},
     "output_type": "execute_result"
    },
    {
     "data": {
      "image/png": "[encoded data removed]",
      "text/plain": [
       "<Figure size 432x216 with 2 Axes>"
      ]
     },
     "metadata": {
      "needs_background": "light"
     },
     "output_type": "display_data"
    },
    {
     "data": {
      "image/png": "[encoded data removed]",
      "text/plain": [
       "<Figure size 432x216 with 2 Axes>"
      ]
     },
     "metadata": {
      "needs_background": "light"
     },
     "output_type": "display_data"
    }
   ],
   "source": [
    "# fig, (ax1, ax2) = plt.subplots()\n",
    "# ax1.distplot(dataframe[dataframe['Gender'] == 'Male']['Height'])\n",
    "\n",
    "g = sns.FacetGrid(heroes_df, col=\"Gender\")\n",
    "g.map(sns.distplot, \"Height\")\n",
    "\n",
    "g = sns.FacetGrid(heroes_df, col=\"Gender\")\n",
    "g.map(sns.distplot, \"Weight\")\n"
   ]
  },
  {
   "cell_type": "markdown",
   "metadata": {},
   "source": [
    "Discuss your findings from the plots above, with respect to the distribution of height and weight by gender.  Your explanation should include a discussion of any relevant summary statistics, including mean, median, mode, and the overall shape of each distribution.  \n",
    "\n",
    "Write your answer below this line:\n",
    "____________________________________________________________________________________________________________________________\n",
    "\n",
    "    It looks like female super heros have a more narrow distribution of weight, but male super heros have a more narrow distribution of height.\n",
    "    \n",
    "    Each of the plots has one very high spike in the middle which could be from filling with median values, but the weight for Femal super heroes has a second spike indicating a median weight.  So many of the female super heroes are the same weight.\n",
    "    \n",
    "    Both of these observations fit expectations about idealized figures.\n"
   ]
  },
  {
   "cell_type": "markdown",
   "metadata": {},
   "source": [
    "### Sample Question: Most Common Powers\n",
    "\n",
    "The rest of this notebook will be left to you to investigate the dataset by formulating your own questions, and then seeking answers using pandas and numpy.  Every answer should include some sort of visualization, when appropriate. Before moving on to formulating your own questions, use the dataset to answer the following questions about superhero powers:\n",
    "\n",
    "* What are the 5 most common powers overall?\n",
    "* What are the 5 most common powers in the Marvel Universe?\n",
    "* What are the 5 most common powers in the DC Universe?"
   ]
  },
  {
   "cell_type": "code",
   "execution_count": 63,
   "metadata": {},
   "outputs": [
    {
     "data": {
      "text/plain": [
       "Super Strength    360\n",
       "Stamina           289\n",
       "Durability        257\n",
       "Super Speed       249\n",
       "Agility           242\n",
       "dtype: int64"
      ]
     },
     "execution_count": 63,
     "metadata": {},
     "output_type": "execute_result"
    }
   ],
   "source": [
    "powers_df.sum().sort_values(ascending = False).head()"
   ]
  },
  {
   "cell_type": "code",
   "execution_count": 64,
   "metadata": {},
   "outputs": [
    {
     "data": {
      "text/plain": [
       "Super Strength    360\n",
       "Stamina           289\n",
       "Durability        257\n",
       "Super Speed       249\n",
       "Agility           242\n",
       "dtype: int64"
      ]
     },
     "execution_count": 64,
     "metadata": {},
     "output_type": "execute_result"
    }
   ],
   "source": [
    "powers_df.sum().sort_values(ascending = False).head()"
   ]
  },
  {
   "cell_type": "code",
   "execution_count": 65,
   "metadata": {},
   "outputs": [
    {
     "data": {
      "text/plain": [
       "Super Strength    190\n",
       "Stamina           143\n",
       "Durability        142\n",
       "Super Speed       130\n",
       "Agility           121\n",
       "dtype: int64"
      ]
     },
     "execution_count": 65,
     "metadata": {},
     "output_type": "execute_result"
    }
   ],
   "source": [
    "hero_powers[hero_powers['Publisher'] == 'Marvel Comics'].loc[ : ,'Agility' : 'Omniscient'].sum().sort_values(ascending = False).head()"
   ]
  },
  {
   "cell_type": "code",
   "execution_count": 66,
   "metadata": {},
   "outputs": [
    {
     "data": {
      "text/plain": [
       "Super Strength    108\n",
       "Stamina            90\n",
       "Flight             84\n",
       "Super Speed        79\n",
       "Agility            71\n",
       "dtype: int64"
      ]
     },
     "execution_count": 66,
     "metadata": {},
     "output_type": "execute_result"
    }
   ],
   "source": [
    "hero_powers[hero_powers['Publisher'] == 'DC Comics'].loc[ : ,'Agility' : 'Omniscient'].sum().sort_values(ascending = False).head()"
   ]
  },
  {
   "cell_type": "markdown",
   "metadata": {},
   "source": [
    "Analyze the results you found above to answer the following question:\n",
    "\n",
    "How do the top 5 powers in the Marvel and DC universes compare?  Are they similar, or are there significant differences? How do they compare to the overall trends in the entire Superheroes dataset?\n",
    "\n",
    "Write your answer below this line:\n",
    "____________________________________________________________________________________________________________________________\n",
    "\n",
    "    4 of the top 5 super powers are the same between Marvel and DC comics.  The difference is the 3rd is durability for Marvel and Flight for DC.  So the DC world has a higher proporiton of flying super heroes while the Marvel world has hartier heroes.\n",
    "    \n",
    "    The top superpowers for Marvel match the top super powers for the full data set.  So flight as a popular feature is a characteristic of DC, more than of super heroes in general (or so it seems looking at only the top 5 results).\n",
    "\n",
    "### Your Own Investigation\n",
    "\n",
    "For the remainder of this lab, you'll be focusing on coming up with and answering your own question, just like we did above.  Your question should not be overly simple, and should require both descriptive statistics and data visualization to answer.  In case you're unsure of what questions to ask, some sample questions have been provided below.\n",
    "\n",
    "Pick one of the following questions to investigate and answer, or come up with one of your own!\n",
    "\n",
    "* Which powers have the highest chance of co-occurring in a hero (e.g. super strength and flight), and does this differ by gender?\n",
    "* Is there a relationship between a hero's height and weight and their powerset?\n",
    "* What is the distribution of skin colors amongst alien heroes?\n",
    "\n",
    "Explain your question below this line:\n",
    "____________________________________________________________________________________________________________________________\n",
    "    I'm going for 'Which powers have the highest chance of co-occurring in a hero (e.g. super strength and flight), and does this differ by gender?'\n",
    "\n",
    "\n",
    "Some sample cells have been provided to give you room to work. If you need to create more cells, you can do this easily by:\n",
    "\n",
    "1. Highlighting a cell and then pressing `esc` to enter command mode.\n",
    "1. Pressing `b` to add a cell below the currently highlighted cell, or `a` to add one above it.  \n",
    "\n",
    "Be sure to include thoughtful, well-labeled visualizations to back up your analysis!"
   ]
  },
  {
   "cell_type": "code",
   "execution_count": 67,
   "metadata": {},
   "outputs": [
    {
     "data": {
      "text/html": [
       "<div>\n",
       "<style scoped>\n",
       "    .dataframe tbody tr th:only-of-type {\n",
       "        vertical-align: middle;\n",
       "    }\n",
       "\n",
       "    .dataframe tbody tr th {\n",
       "        vertical-align: top;\n",
       "    }\n",
       "\n",
       "    .dataframe thead th {\n",
       "        text-align: right;\n",
       "    }\n",
       "</style>\n",
       "<table border=\"1\" class=\"dataframe\">\n",
       "  <thead>\n",
       "    <tr style=\"text-align: right;\">\n",
       "      <th></th>\n",
       "      <th>count</th>\n",
       "    </tr>\n",
       "  </thead>\n",
       "  <tbody>\n",
       "    <tr>\n",
       "      <th>(Agility, Accelerated Healing)</th>\n",
       "      <td>18618</td>\n",
       "    </tr>\n",
       "    <tr>\n",
       "      <th>(Agility, Lantern Power Ring)</th>\n",
       "      <td>870</td>\n",
       "    </tr>\n",
       "    <tr>\n",
       "      <th>(Agility, Dimensional Awareness)</th>\n",
       "      <td>1914</td>\n",
       "    </tr>\n",
       "    <tr>\n",
       "      <th>(Agility, Cold Resistance)</th>\n",
       "      <td>4698</td>\n",
       "    </tr>\n",
       "    <tr>\n",
       "      <th>(Agility, Durability)</th>\n",
       "      <td>21054</td>\n",
       "    </tr>\n",
       "    <tr>\n",
       "      <th>...</th>\n",
       "      <td>...</td>\n",
       "    </tr>\n",
       "    <tr>\n",
       "      <th>(Molecular Dissipation, Omnipresent)</th>\n",
       "      <td>0</td>\n",
       "    </tr>\n",
       "    <tr>\n",
       "      <th>(Molecular Dissipation, Omniscient)</th>\n",
       "      <td>0</td>\n",
       "    </tr>\n",
       "    <tr>\n",
       "      <th>(Vision - Cryo, Omnipresent)</th>\n",
       "      <td>0</td>\n",
       "    </tr>\n",
       "    <tr>\n",
       "      <th>(Vision - Cryo, Omniscient)</th>\n",
       "      <td>0</td>\n",
       "    </tr>\n",
       "    <tr>\n",
       "      <th>(Omnipresent, Omniscient)</th>\n",
       "      <td>348</td>\n",
       "    </tr>\n",
       "  </tbody>\n",
       "</table>\n",
       "<p>13861 rows × 1 columns</p>\n",
       "</div>"
      ],
      "text/plain": [
       "                                      count\n",
       "(Agility, Accelerated Healing)        18618\n",
       "(Agility, Lantern Power Ring)           870\n",
       "(Agility, Dimensional Awareness)       1914\n",
       "(Agility, Cold Resistance)             4698\n",
       "(Agility, Durability)                 21054\n",
       "...                                     ...\n",
       "(Molecular Dissipation, Omnipresent)      0\n",
       "(Molecular Dissipation, Omniscient)       0\n",
       "(Vision - Cryo, Omnipresent)              0\n",
       "(Vision - Cryo, Omniscient)               0\n",
       "(Omnipresent, Omniscient)               348\n",
       "\n",
       "[13861 rows x 1 columns]"
      ]
     },
     "execution_count": 67,
     "metadata": {},
     "output_type": "execute_result"
    }
   ],
   "source": [
    "# This approach is functional but slow.  There must be a vectorized way to do this.\n",
    "# create a map of all pairs then count the number of times that pair occurs\n",
    "\n",
    "# lets try to loop through the pairs and create a power1 and power2 column\n",
    "\n",
    "power_cols = powers_df.loc[ : , 'Agility' : ].columns\n",
    "n_power_cols = len(power_cols)\n",
    "\n",
    "power_pairs = {}\n",
    "\n",
    "for i in range(n_power_cols):\n",
    "    power1 = power_cols[i]\n",
    "    for power2 in power_cols[i + 1 : ]:\n",
    "#         print(power1, power2)\n",
    "#         #how dow we find the number of times each power pair occurs?\n",
    "#         print(hero_powers[hero_powers[power1] & hero_powers[power2]].size)\n",
    "        power_pairs[(power1, power2)] = hero_powers[hero_powers[power1] & hero_powers[power2]].size\n",
    "    \n",
    "power_pairs = pd.DataFrame.from_dict(power_pairs, orient='index', columns=['count'])\n",
    "power_pairs"
   ]
  },
  {
   "cell_type": "code",
   "execution_count": 68,
   "metadata": {},
   "outputs": [],
   "source": [
    "def count_power_pairs(df):\n",
    "    power_cols = df.loc[ : , 'Agility' : ].columns\n",
    "    n_power_cols = len(power_cols)\n",
    "\n",
    "    power_pairs = {}\n",
    "\n",
    "    for i in range(n_power_cols):\n",
    "        power1 = power_cols[i]\n",
    "        for power2 in power_cols[i + 1 : ]:\n",
    "    #         print(power1, power2)\n",
    "    #         #how dow we find the number of times each power pair occurs?\n",
    "    #         print(hero_powers[hero_powers[power1] & hero_powers[power2]].size)\n",
    "            power_pairs[(power1, power2)] = len(df[df[power1] & df[power2]])\n",
    "\n",
    "    power_pairs = pd.DataFrame.from_dict(power_pairs, orient='index', columns=['count'])\n",
    "    power_pairs = power_pairs[power_pairs['count'] > 0]\n",
    "    \n",
    "    return power_pairs.sort_values(by='count', ascending = False)"
   ]
  },
  {
   "cell_type": "code",
   "execution_count": 69,
   "metadata": {},
   "outputs": [],
   "source": [
    "def plot_power_pairs(dfs):\n",
    "    power_pairs = dfs[0]\n",
    "    for df in dfs:\n",
    "        \n",
    "        plt.barh(y = power_pairs[0 : 20].reset_index()['index'].astype(str), width = power_pairs.iloc[0 : 20])\n"
   ]
  },
  {
   "cell_type": "code",
   "execution_count": 71,
   "metadata": {},
   "outputs": [
    {
     "data": {
      "text/html": [
       "<div>\n",
       "<style scoped>\n",
       "    .dataframe tbody tr th:only-of-type {\n",
       "        vertical-align: middle;\n",
       "    }\n",
       "\n",
       "    .dataframe tbody tr th {\n",
       "        vertical-align: top;\n",
       "    }\n",
       "\n",
       "    .dataframe thead th {\n",
       "        text-align: right;\n",
       "    }\n",
       "</style>\n",
       "<table border=\"1\" class=\"dataframe\">\n",
       "  <thead>\n",
       "    <tr style=\"text-align: right;\">\n",
       "      <th></th>\n",
       "      <th>count</th>\n",
       "      <th>male_count</th>\n",
       "      <th>female_count</th>\n",
       "    </tr>\n",
       "  </thead>\n",
       "  <tbody>\n",
       "    <tr>\n",
       "      <th>(Durability, Super Strength)</th>\n",
       "      <td>227</td>\n",
       "      <td>166.0</td>\n",
       "      <td>52.0</td>\n",
       "    </tr>\n",
       "    <tr>\n",
       "      <th>(Super Strength, Stamina)</th>\n",
       "      <td>221</td>\n",
       "      <td>162.0</td>\n",
       "      <td>51.0</td>\n",
       "    </tr>\n",
       "    <tr>\n",
       "      <th>(Super Strength, Super Speed)</th>\n",
       "      <td>219</td>\n",
       "      <td>159.0</td>\n",
       "      <td>54.0</td>\n",
       "    </tr>\n",
       "    <tr>\n",
       "      <th>(Agility, Stamina)</th>\n",
       "      <td>178</td>\n",
       "      <td>127.0</td>\n",
       "      <td>44.0</td>\n",
       "    </tr>\n",
       "    <tr>\n",
       "      <th>(Stamina, Super Speed)</th>\n",
       "      <td>171</td>\n",
       "      <td>134.0</td>\n",
       "      <td>38.0</td>\n",
       "    </tr>\n",
       "    <tr>\n",
       "      <th>...</th>\n",
       "      <td>...</td>\n",
       "      <td>...</td>\n",
       "      <td>...</td>\n",
       "    </tr>\n",
       "    <tr>\n",
       "      <th>(Radiation Control, Molecular Manipulation)</th>\n",
       "      <td>1</td>\n",
       "      <td>1.0</td>\n",
       "      <td>NaN</td>\n",
       "    </tr>\n",
       "    <tr>\n",
       "      <th>(Radiation Control, Enhanced Sight)</th>\n",
       "      <td>1</td>\n",
       "      <td>1.0</td>\n",
       "      <td>NaN</td>\n",
       "    </tr>\n",
       "    <tr>\n",
       "      <th>(Radiation Control, Natural Armor)</th>\n",
       "      <td>1</td>\n",
       "      <td>1.0</td>\n",
       "      <td>NaN</td>\n",
       "    </tr>\n",
       "    <tr>\n",
       "      <th>(Energy Beams, Elemental Transmogrification)</th>\n",
       "      <td>1</td>\n",
       "      <td>1.0</td>\n",
       "      <td>NaN</td>\n",
       "    </tr>\n",
       "    <tr>\n",
       "      <th>(Animal Oriented Powers, Precognition)</th>\n",
       "      <td>1</td>\n",
       "      <td>NaN</td>\n",
       "      <td>1.0</td>\n",
       "    </tr>\n",
       "  </tbody>\n",
       "</table>\n",
       "<p>6286 rows × 3 columns</p>\n",
       "</div>"
      ],
      "text/plain": [
       "                                              count  male_count  female_count\n",
       "(Durability, Super Strength)                    227       166.0          52.0\n",
       "(Super Strength, Stamina)                       221       162.0          51.0\n",
       "(Super Strength, Super Speed)                   219       159.0          54.0\n",
       "(Agility, Stamina)                              178       127.0          44.0\n",
       "(Stamina, Super Speed)                          171       134.0          38.0\n",
       "...                                             ...         ...           ...\n",
       "(Radiation Control, Molecular Manipulation)       1         1.0           NaN\n",
       "(Radiation Control, Enhanced Sight)               1         1.0           NaN\n",
       "(Radiation Control, Natural Armor)                1         1.0           NaN\n",
       "(Energy Beams, Elemental Transmogrification)      1         1.0           NaN\n",
       "(Animal Oriented Powers, Precognition)            1         NaN           1.0\n",
       "\n",
       "[6286 rows x 3 columns]"
      ]
     },
     "execution_count": 71,
     "metadata": {},
     "output_type": "execute_result"
    }
   ],
   "source": [
    "power_pairs = count_power_pairs(powers_df)\n",
    "power_pairs['male_count'] = count_power_pairs(male_heroes_df)\n",
    "power_pairs['female_count'] = count_power_pairs(female_heroes_df)\n",
    "\n",
    "power_pairs"
   ]
  },
  {
   "cell_type": "code",
   "execution_count": 72,
   "metadata": {},
   "outputs": [
    {
     "data": {
      "text/plain": [
       "Text(0.5, 1.0, 'Power Pairs sorted by highest count')"
      ]
     },
     "execution_count": 72,
     "metadata": {},
     "output_type": "execute_result"
    },
    {
     "data": {
      "image/png": "[encoded data removed]",
      "text/plain": [
       "<Figure size 864x576 with 1 Axes>"
      ]
     },
     "metadata": {
      "needs_background": "light"
     },
     "output_type": "display_data"
    }
   ],
   "source": [
    "#plot_power_pairs(power_pairs)\n",
    "power_pairs.iloc[ : 20].fillna(0).plot(kind='barh', figsize=(12,8))\n",
    "plt.title('Power Pairs sorted by highest count')"
   ]
  },
  {
   "cell_type": "code",
   "execution_count": 73,
   "metadata": {},
   "outputs": [
    {
     "data": {
      "text/plain": [
       "Text(0.5, 1.0, 'Power Pairs sorted by highest count for Male Super Heroes')"
      ]
     },
     "execution_count": 73,
     "metadata": {},
     "output_type": "execute_result"
    },
    {
     "data": {
      "image/png": "[encoded data removed]",
      "text/plain": [
       "<Figure size 864x576 with 1 Axes>"
      ]
     },
     "metadata": {
      "needs_background": "light"
     },
     "output_type": "display_data"
    }
   ],
   "source": [
    "power_pairs.sort_values('male_count', ascending = False).iloc[ : 20].fillna(0).plot(kind='barh', figsize=(12,8))\n",
    "plt.title('Power Pairs sorted by highest count for Male Super Heroes')"
   ]
  },
  {
   "cell_type": "code",
   "execution_count": 74,
   "metadata": {},
   "outputs": [
    {
     "data": {
      "text/plain": [
       "Text(0.5, 1.0, 'Power Pairs sorted by highest count for Female Super Heroes')"
      ]
     },
     "execution_count": 74,
     "metadata": {},
     "output_type": "execute_result"
    },
    {
     "data": {
      "image/png": "[encoded data removed]",
      "text/plain": [
       "<Figure size 864x576 with 1 Axes>"
      ]
     },
     "metadata": {
      "needs_background": "light"
     },
     "output_type": "display_data"
    }
   ],
   "source": [
    "power_pairs.sort_values('female_count', ascending = False).iloc[ : 20].fillna(0).plot(kind='barh', figsize=(12,8))\n",
    "plt.title('Power Pairs sorted by highest count for Female Super Heroes')"
   ]
  },
  {
   "cell_type": "code",
   "execution_count": 75,
   "metadata": {},
   "outputs": [
    {
     "name": "stdout",
     "output_type": "stream",
     "text": [
      "Top 5 Power Pairs: Index([('Animal Oriented Powers', 'Precognition'),\n",
      "                  ('Invisibility', 'Sub-Mariner'),\n",
      "         ('Magic Resistance', 'Vision - Thermal'),\n",
      "            ('Magic Resistance', 'Vision - Heat'),\n",
      "           ('Magic Resistance', 'Vision - Night')],\n",
      "      dtype='object')\n",
      "Top 5 Power Pairs for Male: Index([        ('Fire Control', 'Resurrection'),\n",
      "                ('Natural Armor', 'Levitation'),\n",
      "       ('Intangibility', 'Vision - Telescopic'),\n",
      "              ('Intangibility', 'Power Cosmic'),\n",
      "       ('Natural Armor', 'Energy Manipulation')],\n",
      "      dtype='object')\n",
      "Top 5 Power Pairs for Female: Index([          ('Enhanced Senses', 'Regeneration'),\n",
      "                     ('Cryokinesis', 'Force Fields'),\n",
      "                    ('Camouflage', 'Enhanced Smell'),\n",
      "                ('Weapons Master', 'Enhanced Touch'),\n",
      "       ('Technopath/Cyberpath', 'Vision - Infrared')],\n",
      "      dtype='object')\n"
     ]
    }
   ],
   "source": [
    "print('Top 5 Power Pairs:', power_pairs.sort_values(by='count')[:5].index)\n",
    "print('Top 5 Power Pairs for Male:', power_pairs.sort_values(by='male_count')[:5].index)\n",
    "print('Top 5 Power Pairs for Female:', power_pairs.sort_values(by='female_count')[:5].index)\n"
   ]
  },
  {
   "cell_type": "markdown",
   "metadata": {},
   "source": [
    "    Perhaps another day we need to consider whether Enhanced Smell is a form of Enhanced Senses and so they should either all be combined or Enhanced Senses deleted.\n",
    "    \n",
    "    There is no overlap between any of the top 5 powers which is interesting.  Neither Male nor Female powers dominate the count even though there are many more male superheroes them female."
   ]
  },
  {
   "cell_type": "markdown",
   "metadata": {},
   "source": [
    "## Summary\n",
    "\n",
    "In this lab, we demonstrated our mastery of:\n",
    "* Using all of our Pandas knowledge to date to clean the dataset and deal with null values\n",
    "* Using Queries and aggregations to group the data into interesting subsets as needed\n",
    "* Using descriptive statistics and data visualization to find answers to questions we may have about the data"
   ]
  },
  {
   "cell_type": "markdown",
   "metadata": {},
   "source": [
    "    Just out of curiosity I want to see if melting the DataFrame and agregating the values would be faster than the method I used above."
   ]
  },
  {
   "cell_type": "code",
   "execution_count": 76,
   "metadata": {},
   "outputs": [
    {
     "data": {
      "text/html": [
       "<div>\n",
       "<style scoped>\n",
       "    .dataframe tbody tr th:only-of-type {\n",
       "        vertical-align: middle;\n",
       "    }\n",
       "\n",
       "    .dataframe tbody tr th {\n",
       "        vertical-align: top;\n",
       "    }\n",
       "\n",
       "    .dataframe thead th {\n",
       "        text-align: right;\n",
       "    }\n",
       "</style>\n",
       "<table border=\"1\" class=\"dataframe\">\n",
       "  <thead>\n",
       "    <tr style=\"text-align: right;\">\n",
       "      <th></th>\n",
       "      <th>index</th>\n",
       "      <th>Gender</th>\n",
       "      <th>Eye color</th>\n",
       "      <th>Hair color</th>\n",
       "      <th>Height</th>\n",
       "      <th>Publisher</th>\n",
       "      <th>Alignment</th>\n",
       "      <th>Weight</th>\n",
       "      <th>Agility</th>\n",
       "      <th>Accelerated Healing</th>\n",
       "      <th>...</th>\n",
       "      <th>Web Creation</th>\n",
       "      <th>Reality Warping</th>\n",
       "      <th>Odin Force</th>\n",
       "      <th>Symbiote Costume</th>\n",
       "      <th>Speed Force</th>\n",
       "      <th>Phoenix Force</th>\n",
       "      <th>Molecular Dissipation</th>\n",
       "      <th>Vision - Cryo</th>\n",
       "      <th>Omnipresent</th>\n",
       "      <th>Omniscient</th>\n",
       "    </tr>\n",
       "  </thead>\n",
       "  <tbody>\n",
       "    <tr>\n",
       "      <th>0</th>\n",
       "      <td>3-D Man</td>\n",
       "      <td>NaN</td>\n",
       "      <td>NaN</td>\n",
       "      <td>NaN</td>\n",
       "      <td>NaN</td>\n",
       "      <td>NaN</td>\n",
       "      <td>NaN</td>\n",
       "      <td>NaN</td>\n",
       "      <td>True</td>\n",
       "      <td>False</td>\n",
       "      <td>...</td>\n",
       "      <td>False</td>\n",
       "      <td>False</td>\n",
       "      <td>False</td>\n",
       "      <td>False</td>\n",
       "      <td>False</td>\n",
       "      <td>False</td>\n",
       "      <td>False</td>\n",
       "      <td>False</td>\n",
       "      <td>False</td>\n",
       "      <td>False</td>\n",
       "    </tr>\n",
       "    <tr>\n",
       "      <th>1</th>\n",
       "      <td>A-Bomb</td>\n",
       "      <td>Male</td>\n",
       "      <td>yellow</td>\n",
       "      <td>No Hair</td>\n",
       "      <td>203.0</td>\n",
       "      <td>Marvel Comics</td>\n",
       "      <td>good</td>\n",
       "      <td>441.0</td>\n",
       "      <td>False</td>\n",
       "      <td>True</td>\n",
       "      <td>...</td>\n",
       "      <td>False</td>\n",
       "      <td>False</td>\n",
       "      <td>False</td>\n",
       "      <td>False</td>\n",
       "      <td>False</td>\n",
       "      <td>False</td>\n",
       "      <td>False</td>\n",
       "      <td>False</td>\n",
       "      <td>False</td>\n",
       "      <td>False</td>\n",
       "    </tr>\n",
       "    <tr>\n",
       "      <th>2</th>\n",
       "      <td>Abe Sapien</td>\n",
       "      <td>Male</td>\n",
       "      <td>blue</td>\n",
       "      <td>No Hair</td>\n",
       "      <td>191.0</td>\n",
       "      <td>Dark Horse Comics</td>\n",
       "      <td>good</td>\n",
       "      <td>65.0</td>\n",
       "      <td>True</td>\n",
       "      <td>True</td>\n",
       "      <td>...</td>\n",
       "      <td>False</td>\n",
       "      <td>False</td>\n",
       "      <td>False</td>\n",
       "      <td>False</td>\n",
       "      <td>False</td>\n",
       "      <td>False</td>\n",
       "      <td>False</td>\n",
       "      <td>False</td>\n",
       "      <td>False</td>\n",
       "      <td>False</td>\n",
       "    </tr>\n",
       "    <tr>\n",
       "      <th>3</th>\n",
       "      <td>Abin Sur</td>\n",
       "      <td>Male</td>\n",
       "      <td>blue</td>\n",
       "      <td>No Hair</td>\n",
       "      <td>185.0</td>\n",
       "      <td>DC Comics</td>\n",
       "      <td>good</td>\n",
       "      <td>90.0</td>\n",
       "      <td>False</td>\n",
       "      <td>False</td>\n",
       "      <td>...</td>\n",
       "      <td>False</td>\n",
       "      <td>False</td>\n",
       "      <td>False</td>\n",
       "      <td>False</td>\n",
       "      <td>False</td>\n",
       "      <td>False</td>\n",
       "      <td>False</td>\n",
       "      <td>False</td>\n",
       "      <td>False</td>\n",
       "      <td>False</td>\n",
       "    </tr>\n",
       "    <tr>\n",
       "      <th>4</th>\n",
       "      <td>Abomination</td>\n",
       "      <td>Male</td>\n",
       "      <td>green</td>\n",
       "      <td>No Hair</td>\n",
       "      <td>203.0</td>\n",
       "      <td>Marvel Comics</td>\n",
       "      <td>bad</td>\n",
       "      <td>441.0</td>\n",
       "      <td>False</td>\n",
       "      <td>True</td>\n",
       "      <td>...</td>\n",
       "      <td>False</td>\n",
       "      <td>False</td>\n",
       "      <td>False</td>\n",
       "      <td>False</td>\n",
       "      <td>False</td>\n",
       "      <td>False</td>\n",
       "      <td>False</td>\n",
       "      <td>False</td>\n",
       "      <td>False</td>\n",
       "      <td>False</td>\n",
       "    </tr>\n",
       "  </tbody>\n",
       "</table>\n",
       "<p>5 rows × 175 columns</p>\n",
       "</div>"
      ],
      "text/plain": [
       "         index Gender Eye color Hair color  Height          Publisher  \\\n",
       "0      3-D Man    NaN       NaN        NaN     NaN                NaN   \n",
       "1       A-Bomb   Male    yellow    No Hair   203.0      Marvel Comics   \n",
       "2   Abe Sapien   Male      blue    No Hair   191.0  Dark Horse Comics   \n",
       "3     Abin Sur   Male      blue    No Hair   185.0          DC Comics   \n",
       "4  Abomination   Male     green    No Hair   203.0      Marvel Comics   \n",
       "\n",
       "  Alignment  Weight  Agility  Accelerated Healing  ...  Web Creation  \\\n",
       "0       NaN     NaN     True                False  ...         False   \n",
       "1      good   441.0    False                 True  ...         False   \n",
       "2      good    65.0     True                 True  ...         False   \n",
       "3      good    90.0    False                False  ...         False   \n",
       "4       bad   441.0    False                 True  ...         False   \n",
       "\n",
       "   Reality Warping  Odin Force  Symbiote Costume  Speed Force  Phoenix Force  \\\n",
       "0            False       False             False        False          False   \n",
       "1            False       False             False        False          False   \n",
       "2            False       False             False        False          False   \n",
       "3            False       False             False        False          False   \n",
       "4            False       False             False        False          False   \n",
       "\n",
       "   Molecular Dissipation  Vision - Cryo  Omnipresent  Omniscient  \n",
       "0                  False          False        False       False  \n",
       "1                  False          False        False       False  \n",
       "2                  False          False        False       False  \n",
       "3                  False          False        False       False  \n",
       "4                  False          False        False       False  \n",
       "\n",
       "[5 rows x 175 columns]"
      ]
     },
     "execution_count": 76,
     "metadata": {},
     "output_type": "execute_result"
    }
   ],
   "source": [
    "hero_powers.reset_index().head()"
   ]
  },
  {
   "cell_type": "markdown",
   "metadata": {},
   "source": [
    "    I think this probably is faster but I can't quite fit the pieces together yet.  I am going to move on to another topic.\n",
    "   "
   ]
  },
  {
   "cell_type": "code",
   "execution_count": 77,
   "metadata": {},
   "outputs": [],
   "source": [
    "def count_power_pairs2(df):\n",
    "    power_cols = df.loc[ : , 'Agility' : ].columns\n",
    "    n_power_cols = len(power_cols)\n",
    "    power_pairs = pd.DataFrame(columns=['index', 'power1', 'power2'])\n",
    "    \n",
    "    for i in range(n_power_cols-1):\n",
    "        power1 = power_cols[i]\n",
    "        tmp_powers = df.reset_index().melt(id_vars = ['index'] + list(power_cols[i + 1 : ]), value_vars = power1, var_name = 'power1')\n",
    "        #tmp_powers = tmp_powers[tmp_powers['value']]\n",
    "        tmp_powers = tmp_powers.reset_index().melt(id_vars = ['index', 'power1', 'value'], value_vars = power_cols[i + 1 : ], var_name = 'power2', value_name='value2')\n",
    "        tmp_powers = tmp_powers[tmp_powers['value'] & tmp_powers['value2']].drop('value2', axis=1)\n",
    "        power_pairs = power_pairs.append(tmp_powers)\n",
    "\n",
    "    return power_pairs.groupby(['power1', 'power2']).count().sort_values(by = 'index', ascending = False)['index']"
   ]
  },
  {
   "cell_type": "code",
   "execution_count": 78,
   "metadata": {},
   "outputs": [
    {
     "name": "stdout",
     "output_type": "stream",
     "text": [
      "5.49 s ± 38.7 ms per loop (mean ± std. dev. of 7 runs, 1 loop each)\n"
     ]
    }
   ],
   "source": [
    "%%timeit\n",
    "count_power_pairs2(hero_powers)"
   ]
  },
  {
   "cell_type": "code",
   "execution_count": 79,
   "metadata": {},
   "outputs": [
    {
     "name": "stdout",
     "output_type": "stream",
     "text": [
      "3.82 s ± 7.99 ms per loop (mean ± std. dev. of 7 runs, 1 loop each)\n"
     ]
    }
   ],
   "source": [
    "%%timeit\n",
    "count_power_pairs(hero_powers)"
   ]
  },
  {
   "cell_type": "code",
   "execution_count": 80,
   "metadata": {},
   "outputs": [
    {
     "data": {
      "text/plain": [
       "power1          power2        \n",
       "Durability      Super Strength    236\n",
       "Super Strength  Stamina           230\n",
       "                Super Speed       228\n",
       "Agility         Stamina           186\n",
       "Stamina         Super Speed       180\n",
       "Name: index, dtype: int64"
      ]
     },
     "execution_count": 80,
     "metadata": {},
     "output_type": "execute_result"
    }
   ],
   "source": [
    "count_power_pairs2(hero_powers).head()"
   ]
  },
  {
   "cell_type": "code",
   "execution_count": 81,
   "metadata": {},
   "outputs": [
    {
     "data": {
      "text/html": [
       "<div>\n",
       "<style scoped>\n",
       "    .dataframe tbody tr th:only-of-type {\n",
       "        vertical-align: middle;\n",
       "    }\n",
       "\n",
       "    .dataframe tbody tr th {\n",
       "        vertical-align: top;\n",
       "    }\n",
       "\n",
       "    .dataframe thead th {\n",
       "        text-align: right;\n",
       "    }\n",
       "</style>\n",
       "<table border=\"1\" class=\"dataframe\">\n",
       "  <thead>\n",
       "    <tr style=\"text-align: right;\">\n",
       "      <th></th>\n",
       "      <th>count</th>\n",
       "    </tr>\n",
       "  </thead>\n",
       "  <tbody>\n",
       "    <tr>\n",
       "      <th>(Durability, Super Strength)</th>\n",
       "      <td>236</td>\n",
       "    </tr>\n",
       "    <tr>\n",
       "      <th>(Super Strength, Stamina)</th>\n",
       "      <td>230</td>\n",
       "    </tr>\n",
       "    <tr>\n",
       "      <th>(Super Strength, Super Speed)</th>\n",
       "      <td>228</td>\n",
       "    </tr>\n",
       "    <tr>\n",
       "      <th>(Agility, Stamina)</th>\n",
       "      <td>186</td>\n",
       "    </tr>\n",
       "    <tr>\n",
       "      <th>(Stamina, Super Speed)</th>\n",
       "      <td>180</td>\n",
       "    </tr>\n",
       "  </tbody>\n",
       "</table>\n",
       "</div>"
      ],
      "text/plain": [
       "                               count\n",
       "(Durability, Super Strength)     236\n",
       "(Super Strength, Stamina)        230\n",
       "(Super Strength, Super Speed)    228\n",
       "(Agility, Stamina)               186\n",
       "(Stamina, Super Speed)           180"
      ]
     },
     "execution_count": 81,
     "metadata": {},
     "output_type": "execute_result"
    }
   ],
   "source": [
    "count_power_pairs(hero_powers).head()"
   ]
  },
  {
   "cell_type": "markdown",
   "metadata": {},
   "source": [
    "# Womp womp.  The first method was faster."
   ]
  },
  {
   "cell_type": "code",
   "execution_count": null,
   "metadata": {},
   "outputs": [],
   "source": []
  }
 ],
 "metadata": {
  "kernelspec": {
   "display_name": "Python 3",
   "language": "python",
   "name": "python3"
  },
  "language_info": {
   "codemirror_mode": {
    "name": "ipython",
    "version": 3
   },
   "file_extension": ".py",
   "mimetype": "text/x-python",
   "name": "python",
   "nbconvert_exporter": "python",
   "pygments_lexer": "ipython3",
   "version": "3.8.5"
  }
 },
 "nbformat": 4,
 "nbformat_minor": 2
}
